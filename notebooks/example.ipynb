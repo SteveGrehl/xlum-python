{
 "cells": [
  {
   "cell_type": "markdown",
   "metadata": {},
   "source": [
    "# Example Usage of Xlum-python"
   ]
  },
  {
   "cell_type": "code",
   "execution_count": 1,
   "metadata": {},
   "outputs": [],
   "source": [
    "import sys\n",
    "import os\n",
    "import pandas as pd\n",
    "from dataclasses import asdict\n",
    "\n",
    "DIRNAME = os.getcwd()\n",
    "sys.path.append(\n",
    "    os.path.join(\n",
    "        DIRNAME,\n",
    "        '../xlum')\n",
    ")\n",
    "from data.classes import XlumMeta, Sample, Record, Sequence, Curve\n",
    "import importer"
   ]
  },
  {
   "cell_type": "code",
   "execution_count": 2,
   "metadata": {},
   "outputs": [
    {
     "name": "stdout",
     "output_type": "stream",
     "text": [
      "sample\n"
     ]
    }
   ],
   "source": [
    "obj: XlumMeta = importer.from_xlum(\n",
    "    # os.path.join(\n",
    "    #     DIRNAME,\n",
    "    #     \"../assets/xlum_example.xlum\"\n",
    "    # )\n",
    "    \"/Users/sgrehl/Downloads/BDX16646_OSL_SAR.xlum\"\n",
    ")"
   ]
  },
  {
   "cell_type": "code",
   "execution_count": 3,
   "metadata": {},
   "outputs": [
    {
     "data": {
      "text/html": [
       "<div>\n",
       "<style scoped>\n",
       "    .dataframe tbody tr th:only-of-type {\n",
       "        vertical-align: middle;\n",
       "    }\n",
       "\n",
       "    .dataframe tbody tr th {\n",
       "        vertical-align: top;\n",
       "    }\n",
       "\n",
       "    .dataframe thead th {\n",
       "        text-align: right;\n",
       "    }\n",
       "</style>\n",
       "<table border=\"1\" class=\"dataframe\">\n",
       "  <thead>\n",
       "    <tr style=\"text-align: right;\">\n",
       "      <th></th>\n",
       "      <th>XlumMeta.formatVersion</th>\n",
       "      <th>XlumMeta.author</th>\n",
       "      <th>XlumMeta.lang</th>\n",
       "      <th>XlumMeta.license</th>\n",
       "      <th>Samples.name</th>\n",
       "      <th>Samples.mineral</th>\n",
       "      <th>Samples.latitude</th>\n",
       "      <th>Samples.longitude</th>\n",
       "      <th>Samples.altitude</th>\n",
       "      <th>Samples.doi</th>\n",
       "      <th>Samples.comment</th>\n",
       "      <th>Samples.state</th>\n",
       "      <th>Samples.parentID</th>\n",
       "    </tr>\n",
       "  </thead>\n",
       "  <tbody>\n",
       "    <tr>\n",
       "      <th>0</th>\n",
       "      <td>1.0</td>\n",
       "      <td>Marie Skłodowska-Curie; Max Karl Ernst Ludwig ...</td>\n",
       "      <td>en</td>\n",
       "      <td>CC BY 4.0</td>\n",
       "      <td>LUM-21321</td>\n",
       "      <td>quartz</td>\n",
       "      <td>52.409139</td>\n",
       "      <td>-4.070245</td>\n",
       "      <td>50.0</td>\n",
       "      <td>valid DOI</td>\n",
       "      <td>NA</td>\n",
       "      <td>State.UNKNOWN</td>\n",
       "      <td>NA</td>\n",
       "    </tr>\n",
       "  </tbody>\n",
       "</table>\n",
       "</div>"
      ],
      "text/plain": [
       "  XlumMeta.formatVersion                                    XlumMeta.author  \\\n",
       "0                    1.0  Marie Skłodowska-Curie; Max Karl Ernst Ludwig ...   \n",
       "\n",
       "  XlumMeta.lang XlumMeta.license Samples.name Samples.mineral  \\\n",
       "0            en        CC BY 4.0    LUM-21321          quartz   \n",
       "\n",
       "   Samples.latitude  Samples.longitude  Samples.altitude Samples.doi  \\\n",
       "0         52.409139          -4.070245              50.0   valid DOI   \n",
       "\n",
       "  Samples.comment  Samples.state Samples.parentID  \n",
       "0              NA  State.UNKNOWN               NA  "
      ]
     },
     "execution_count": 3,
     "metadata": {},
     "output_type": "execute_result"
    }
   ],
   "source": [
    "obj.df"
   ]
  },
  {
   "cell_type": "code",
   "execution_count": 4,
   "metadata": {},
   "outputs": [
    {
     "data": {
      "text/html": [
       "<div>\n",
       "<style scoped>\n",
       "    .dataframe tbody tr th:only-of-type {\n",
       "        vertical-align: middle;\n",
       "    }\n",
       "\n",
       "    .dataframe tbody tr th {\n",
       "        vertical-align: top;\n",
       "    }\n",
       "\n",
       "    .dataframe thead th {\n",
       "        text-align: right;\n",
       "    }\n",
       "</style>\n",
       "<table border=\"1\" class=\"dataframe\">\n",
       "  <thead>\n",
       "    <tr style=\"text-align: right;\">\n",
       "      <th></th>\n",
       "      <th>Sample.name</th>\n",
       "      <th>Sample.mineral</th>\n",
       "      <th>Sample.latitude</th>\n",
       "      <th>Sample.longitude</th>\n",
       "      <th>Sample.altitude</th>\n",
       "      <th>Sample.doi</th>\n",
       "      <th>Sample.comment</th>\n",
       "      <th>Sample.state</th>\n",
       "      <th>Sample.parentID</th>\n",
       "      <th>Sequences.fileName</th>\n",
       "      <th>Sequences.software</th>\n",
       "      <th>Sequences.readerName</th>\n",
       "      <th>Sequences.readerSN</th>\n",
       "      <th>Sequences.readerFW</th>\n",
       "      <th>Sequences.comment</th>\n",
       "      <th>Sequences.state</th>\n",
       "      <th>Sequences.parentID</th>\n",
       "    </tr>\n",
       "  </thead>\n",
       "  <tbody>\n",
       "    <tr>\n",
       "      <th>0</th>\n",
       "      <td>LUM-21321</td>\n",
       "      <td>quartz</td>\n",
       "      <td>52.409139</td>\n",
       "      <td>-4.070245</td>\n",
       "      <td>50.0</td>\n",
       "      <td>valid DOI</td>\n",
       "      <td>NA</td>\n",
       "      <td>State.UNKNOWN</td>\n",
       "      <td>NA</td>\n",
       "      <td>Testsequence.seq</td>\n",
       "      <td>DeviceEditor 2.0</td>\n",
       "      <td>NA</td>\n",
       "      <td>NA</td>\n",
       "      <td>NA</td>\n",
       "      <td>NA</td>\n",
       "      <td>State.UNKNOWN</td>\n",
       "      <td>NA</td>\n",
       "    </tr>\n",
       "  </tbody>\n",
       "</table>\n",
       "</div>"
      ],
      "text/plain": [
       "  Sample.name Sample.mineral  Sample.latitude  Sample.longitude  \\\n",
       "0   LUM-21321         quartz        52.409139         -4.070245   \n",
       "\n",
       "   Sample.altitude Sample.doi Sample.comment   Sample.state Sample.parentID  \\\n",
       "0             50.0  valid DOI             NA  State.UNKNOWN              NA   \n",
       "\n",
       "  Sequences.fileName Sequences.software Sequences.readerName  \\\n",
       "0   Testsequence.seq   DeviceEditor 2.0                   NA   \n",
       "\n",
       "  Sequences.readerSN Sequences.readerFW Sequences.comment Sequences.state  \\\n",
       "0                 NA                 NA                NA   State.UNKNOWN   \n",
       "\n",
       "  Sequences.parentID  \n",
       "0                 NA  "
      ]
     },
     "execution_count": 4,
     "metadata": {},
     "output_type": "execute_result"
    }
   ],
   "source": [
    "obj.lstSamples[0].df"
   ]
  },
  {
   "cell_type": "code",
   "execution_count": 5,
   "metadata": {},
   "outputs": [
    {
     "data": {
      "text/html": [
       "<div>\n",
       "<style scoped>\n",
       "    .dataframe tbody tr th:only-of-type {\n",
       "        vertical-align: middle;\n",
       "    }\n",
       "\n",
       "    .dataframe tbody tr th {\n",
       "        vertical-align: top;\n",
       "    }\n",
       "\n",
       "    .dataframe thead th {\n",
       "        text-align: right;\n",
       "    }\n",
       "</style>\n",
       "<table border=\"1\" class=\"dataframe\">\n",
       "  <thead>\n",
       "    <tr style=\"text-align: right;\">\n",
       "      <th></th>\n",
       "      <th>Sequence.fileName</th>\n",
       "      <th>Sequence.software</th>\n",
       "      <th>Sequence.readerName</th>\n",
       "      <th>Sequence.readerSN</th>\n",
       "      <th>Sequence.readerFW</th>\n",
       "      <th>Sequence.comment</th>\n",
       "      <th>Sequence.state</th>\n",
       "      <th>Sequence.parentID</th>\n",
       "      <th>Records.recordType</th>\n",
       "      <th>Records.sequenceStepNumber</th>\n",
       "      <th>Records.sampleCondition</th>\n",
       "      <th>Records.comment</th>\n",
       "      <th>Records.state</th>\n",
       "      <th>Records.parentID</th>\n",
       "    </tr>\n",
       "  </thead>\n",
       "  <tbody>\n",
       "    <tr>\n",
       "      <th>0</th>\n",
       "      <td>Testsequence.seq</td>\n",
       "      <td>DeviceEditor 2.0</td>\n",
       "      <td>NA</td>\n",
       "      <td>NA</td>\n",
       "      <td>NA</td>\n",
       "      <td>NA</td>\n",
       "      <td>State.UNKNOWN</td>\n",
       "      <td>NA</td>\n",
       "      <td>RecordType.TL</td>\n",
       "      <td>1</td>\n",
       "      <td>SampleCondition.NA</td>\n",
       "      <td>NA</td>\n",
       "      <td>State.UNKNOWN</td>\n",
       "      <td>NA</td>\n",
       "    </tr>\n",
       "    <tr>\n",
       "      <th>1</th>\n",
       "      <td>NaN</td>\n",
       "      <td>NaN</td>\n",
       "      <td>NaN</td>\n",
       "      <td>NaN</td>\n",
       "      <td>NaN</td>\n",
       "      <td>NaN</td>\n",
       "      <td>NaN</td>\n",
       "      <td>NaN</td>\n",
       "      <td>RecordType.GSL</td>\n",
       "      <td>2</td>\n",
       "      <td>SampleCondition.NA</td>\n",
       "      <td>standard green OSL step</td>\n",
       "      <td>State.NA</td>\n",
       "      <td>standard green OSL step</td>\n",
       "    </tr>\n",
       "  </tbody>\n",
       "</table>\n",
       "</div>"
      ],
      "text/plain": [
       "  Sequence.fileName Sequence.software Sequence.readerName Sequence.readerSN  \\\n",
       "0  Testsequence.seq  DeviceEditor 2.0                  NA                NA   \n",
       "1               NaN               NaN                 NaN               NaN   \n",
       "\n",
       "  Sequence.readerFW Sequence.comment Sequence.state Sequence.parentID  \\\n",
       "0                NA               NA  State.UNKNOWN                NA   \n",
       "1               NaN              NaN            NaN               NaN   \n",
       "\n",
       "  Records.recordType  Records.sequenceStepNumber Records.sampleCondition  \\\n",
       "0      RecordType.TL                           1      SampleCondition.NA   \n",
       "1     RecordType.GSL                           2      SampleCondition.NA   \n",
       "\n",
       "           Records.comment  Records.state         Records.parentID  \n",
       "0                       NA  State.UNKNOWN                       NA  \n",
       "1  standard green OSL step       State.NA  standard green OSL step  "
      ]
     },
     "execution_count": 5,
     "metadata": {},
     "output_type": "execute_result"
    }
   ],
   "source": [
    "obj.lstSamples[0].lstSequences[0].df"
   ]
  },
  {
   "cell_type": "code",
   "execution_count": 6,
   "metadata": {},
   "outputs": [
    {
     "data": {
      "text/html": [
       "<div>\n",
       "<style scoped>\n",
       "    .dataframe tbody tr th:only-of-type {\n",
       "        vertical-align: middle;\n",
       "    }\n",
       "\n",
       "    .dataframe tbody tr th {\n",
       "        vertical-align: top;\n",
       "    }\n",
       "\n",
       "    .dataframe thead th {\n",
       "        text-align: right;\n",
       "    }\n",
       "</style>\n",
       "<table border=\"1\" class=\"dataframe\">\n",
       "  <thead>\n",
       "    <tr style=\"text-align: right;\">\n",
       "      <th></th>\n",
       "      <th>Record.recordType</th>\n",
       "      <th>Record.sequenceStepNumber</th>\n",
       "      <th>Record.sampleCondition</th>\n",
       "      <th>Record.comment</th>\n",
       "      <th>Record.state</th>\n",
       "      <th>Record.parentID</th>\n",
       "      <th>Curves.component</th>\n",
       "      <th>Curves.startDate</th>\n",
       "      <th>Curves.curveType</th>\n",
       "      <th>Curves.duration</th>\n",
       "      <th>...</th>\n",
       "      <th>Curves.vLabel</th>\n",
       "      <th>Curves.xUnit</th>\n",
       "      <th>Curves.yUnit</th>\n",
       "      <th>Curves.tUnit</th>\n",
       "      <th>Curves.vUnit</th>\n",
       "      <th>Curves.detectionWindow</th>\n",
       "      <th>Curves.filter</th>\n",
       "      <th>Curves.comment</th>\n",
       "      <th>Curves.state</th>\n",
       "      <th>Curves.parentID</th>\n",
       "    </tr>\n",
       "  </thead>\n",
       "  <tbody>\n",
       "    <tr>\n",
       "      <th>0</th>\n",
       "      <td>RecordType.TL</td>\n",
       "      <td>1.0</td>\n",
       "      <td>SampleCondition.NA</td>\n",
       "      <td>NA</td>\n",
       "      <td>State.UNKNOWN</td>\n",
       "      <td>NA</td>\n",
       "      <td>NA</td>\n",
       "      <td>2021-02-14 22:57:12</td>\n",
       "      <td>CurveType.MEASURED</td>\n",
       "      <td>0.0</td>\n",
       "      <td>...</td>\n",
       "      <td>NA</td>\n",
       "      <td>NA</td>\n",
       "      <td>NA</td>\n",
       "      <td>NA</td>\n",
       "      <td>NA</td>\n",
       "      <td>NA</td>\n",
       "      <td>NA</td>\n",
       "      <td>NA</td>\n",
       "      <td>State.UNKNOWN</td>\n",
       "      <td>NA</td>\n",
       "    </tr>\n",
       "    <tr>\n",
       "      <th>1</th>\n",
       "      <td>NaN</td>\n",
       "      <td>NaN</td>\n",
       "      <td>NaN</td>\n",
       "      <td>NaN</td>\n",
       "      <td>NaN</td>\n",
       "      <td>NaN</td>\n",
       "      <td>NA</td>\n",
       "      <td>2021-02-14 22:57:12</td>\n",
       "      <td>CurveType.MEASURED</td>\n",
       "      <td>0.0</td>\n",
       "      <td>...</td>\n",
       "      <td>NA</td>\n",
       "      <td>NA</td>\n",
       "      <td>NA</td>\n",
       "      <td>NA</td>\n",
       "      <td>NA</td>\n",
       "      <td>NA</td>\n",
       "      <td>NA</td>\n",
       "      <td>NA</td>\n",
       "      <td>State.UNKNOWN</td>\n",
       "      <td>NA</td>\n",
       "    </tr>\n",
       "  </tbody>\n",
       "</table>\n",
       "<p>2 rows × 27 columns</p>\n",
       "</div>"
      ],
      "text/plain": [
       "  Record.recordType  Record.sequenceStepNumber Record.sampleCondition  \\\n",
       "0     RecordType.TL                        1.0     SampleCondition.NA   \n",
       "1               NaN                        NaN                    NaN   \n",
       "\n",
       "  Record.comment   Record.state Record.parentID Curves.component  \\\n",
       "0             NA  State.UNKNOWN              NA               NA   \n",
       "1            NaN            NaN             NaN               NA   \n",
       "\n",
       "     Curves.startDate    Curves.curveType  Curves.duration  ...  \\\n",
       "0 2021-02-14 22:57:12  CurveType.MEASURED              0.0  ...   \n",
       "1 2021-02-14 22:57:12  CurveType.MEASURED              0.0  ...   \n",
       "\n",
       "   Curves.vLabel Curves.xUnit Curves.yUnit Curves.tUnit Curves.vUnit  \\\n",
       "0             NA           NA           NA           NA           NA   \n",
       "1             NA           NA           NA           NA           NA   \n",
       "\n",
       "  Curves.detectionWindow Curves.filter Curves.comment   Curves.state  \\\n",
       "0                     NA            NA             NA  State.UNKNOWN   \n",
       "1                     NA            NA             NA  State.UNKNOWN   \n",
       "\n",
       "  Curves.parentID  \n",
       "0              NA  \n",
       "1              NA  \n",
       "\n",
       "[2 rows x 27 columns]"
      ]
     },
     "execution_count": 6,
     "metadata": {},
     "output_type": "execute_result"
    }
   ],
   "source": [
    "obj.lstSamples[0].lstSequences[0].lstRecords[0].df"
   ]
  },
  {
   "cell_type": "code",
   "execution_count": 7,
   "metadata": {},
   "outputs": [
    {
     "data": {
      "text/html": [
       "<div>\n",
       "<style scoped>\n",
       "    .dataframe tbody tr th:only-of-type {\n",
       "        vertical-align: middle;\n",
       "    }\n",
       "\n",
       "    .dataframe tbody tr th {\n",
       "        vertical-align: top;\n",
       "    }\n",
       "\n",
       "    .dataframe thead th {\n",
       "        text-align: right;\n",
       "    }\n",
       "</style>\n",
       "<table border=\"1\" class=\"dataframe\">\n",
       "  <thead>\n",
       "    <tr style=\"text-align: right;\">\n",
       "      <th></th>\n",
       "      <th>curve</th>\n",
       "      <th>component</th>\n",
       "      <th>startDate</th>\n",
       "      <th>curveType</th>\n",
       "      <th>duration</th>\n",
       "      <th>offset</th>\n",
       "      <th>xValues</th>\n",
       "      <th>yValues</th>\n",
       "      <th>tValues</th>\n",
       "      <th>xLabel</th>\n",
       "      <th>...</th>\n",
       "      <th>vLabel</th>\n",
       "      <th>xUnit</th>\n",
       "      <th>yUnit</th>\n",
       "      <th>tUnit</th>\n",
       "      <th>vUnit</th>\n",
       "      <th>detectionWindow</th>\n",
       "      <th>filter</th>\n",
       "      <th>Curve.comment</th>\n",
       "      <th>Curve.state</th>\n",
       "      <th>Curve.parentID</th>\n",
       "    </tr>\n",
       "  </thead>\n",
       "  <tbody>\n",
       "    <tr>\n",
       "      <th>0</th>\n",
       "      <td>[293.0, 303.0, 313.0, 323.0, 333.0, 343.0, 353...</td>\n",
       "      <td>NA</td>\n",
       "      <td>2021-02-14 22:57:12</td>\n",
       "      <td>CurveType.MEASURED</td>\n",
       "      <td>0.0</td>\n",
       "      <td>0.0</td>\n",
       "      <td>[]</td>\n",
       "      <td>[]</td>\n",
       "      <td>[]</td>\n",
       "      <td>NA</td>\n",
       "      <td>...</td>\n",
       "      <td>NA</td>\n",
       "      <td>NA</td>\n",
       "      <td>NA</td>\n",
       "      <td>NA</td>\n",
       "      <td>NA</td>\n",
       "      <td>NA</td>\n",
       "      <td>NA</td>\n",
       "      <td>NA</td>\n",
       "      <td>State.UNKNOWN</td>\n",
       "      <td>NA</td>\n",
       "    </tr>\n",
       "  </tbody>\n",
       "</table>\n",
       "<p>1 rows × 22 columns</p>\n",
       "</div>"
      ],
      "text/plain": [
       "                                               curve component  \\\n",
       "0  [293.0, 303.0, 313.0, 323.0, 333.0, 343.0, 353...        NA   \n",
       "\n",
       "            startDate           curveType  duration  offset xValues yValues  \\\n",
       "0 2021-02-14 22:57:12  CurveType.MEASURED       0.0     0.0      []      []   \n",
       "\n",
       "  tValues xLabel  ... vLabel xUnit yUnit tUnit vUnit detectionWindow filter  \\\n",
       "0      []     NA  ...     NA    NA    NA    NA    NA              NA     NA   \n",
       "\n",
       "  Curve.comment    Curve.state Curve.parentID  \n",
       "0            NA  State.UNKNOWN             NA  \n",
       "\n",
       "[1 rows x 22 columns]"
      ]
     },
     "execution_count": 7,
     "metadata": {},
     "output_type": "execute_result"
    }
   ],
   "source": [
    "obj.lstSamples[0].lstSequences[0].lstRecords[0].lstCurves[0].df"
   ]
  },
  {
   "cell_type": "code",
   "execution_count": 8,
   "metadata": {},
   "outputs": [
    {
     "data": {
      "text/plain": [
       "[293.0, 303.0, 313.0, 323.0, 333.0, 343.0, 353.0, 363.0, 373.0, 383.0]"
      ]
     },
     "execution_count": 8,
     "metadata": {},
     "output_type": "execute_result"
    }
   ],
   "source": [
    "obj.lstSamples[0].lstSequences[0].lstRecords[0].lstCurves[0].lstValues"
   ]
  },
  {
   "cell_type": "code",
   "execution_count": 9,
   "metadata": {},
   "outputs": [
    {
     "name": "stdout",
     "output_type": "stream",
     "text": [
      "float 293.0\n"
     ]
    }
   ],
   "source": [
    "curve = obj.lstSamples[0].lstSequences[0].lstRecords[0].lstCurves[0].lstValues\n",
    "print(curve[0].__class__.__name__, curve[0])"
   ]
  },
  {
   "cell_type": "markdown",
   "metadata": {},
   "source": [
    "## Showcase Pandas functions\n",
    "\n",
    "### Requirements\n",
    "- MatPlotLib: `conda install matplotlib`"
   ]
  },
  {
   "cell_type": "code",
   "execution_count": 25,
   "metadata": {},
   "outputs": [
    {
     "data": {
      "text/plain": [
       "[<matplotlib.lines.Line2D at 0x7f8022499780>]"
      ]
     },
     "execution_count": 25,
     "metadata": {},
     "output_type": "execute_result"
    },
    {
     "data": {
      "image/png": "[encoded data removed]",
      "text/plain": [
       "<Figure size 432x288 with 1 Axes>"
      ]
     },
     "metadata": {
      "needs_background": "light"
     },
     "output_type": "display_data"
    }
   ],
   "source": [
    "from matplotlib import pyplot as mpl\n",
    "\n",
    "mpl.plot(curve)"
   ]
  },
  {
   "cell_type": "code",
   "execution_count": 14,
   "metadata": {},
   "outputs": [
    {
     "ename": "TypeError",
     "evalue": "no numeric data to plot",
     "output_type": "error",
     "traceback": [
      "\u001b[0;31m---------------------------------------------------------------------------\u001b[0m",
      "\u001b[0;31mTypeError\u001b[0m                                 Traceback (most recent call last)",
      "\u001b[1;32m/Users/sgrehl/Documents/GIT/xlum/python/xlum-python/notebooks/example.ipynb Cell 13'\u001b[0m in \u001b[0;36m<cell line: 1>\u001b[0;34m()\u001b[0m\n\u001b[0;32m----> <a href='vscode-notebook-cell:/Users/sgrehl/Documents/GIT/xlum/python/xlum-python/notebooks/example.ipynb#ch0000014?line=0'>1</a>\u001b[0m df_curve[\u001b[39m\"\u001b[39;49m\u001b[39mcurve\u001b[39;49m\u001b[39m\"\u001b[39;49m]\u001b[39m.\u001b[39;49mplot(axis\u001b[39m=\u001b[39;49m\u001b[39m1\u001b[39;49m)\n",
      "File \u001b[0;32m~/opt/anaconda3/envs/xlum/lib/python3.10/site-packages/pandas/plotting/_core.py:972\u001b[0m, in \u001b[0;36mPlotAccessor.__call__\u001b[0;34m(self, *args, **kwargs)\u001b[0m\n\u001b[1;32m    <a href='file:///Users/sgrehl/opt/anaconda3/envs/xlum/lib/python3.10/site-packages/pandas/plotting/_core.py?line=968'>969</a>\u001b[0m             label_name \u001b[39m=\u001b[39m label_kw \u001b[39mor\u001b[39;00m data\u001b[39m.\u001b[39mcolumns\n\u001b[1;32m    <a href='file:///Users/sgrehl/opt/anaconda3/envs/xlum/lib/python3.10/site-packages/pandas/plotting/_core.py?line=969'>970</a>\u001b[0m             data\u001b[39m.\u001b[39mcolumns \u001b[39m=\u001b[39m label_name\n\u001b[0;32m--> <a href='file:///Users/sgrehl/opt/anaconda3/envs/xlum/lib/python3.10/site-packages/pandas/plotting/_core.py?line=971'>972</a>\u001b[0m \u001b[39mreturn\u001b[39;00m plot_backend\u001b[39m.\u001b[39;49mplot(data, kind\u001b[39m=\u001b[39;49mkind, \u001b[39m*\u001b[39;49m\u001b[39m*\u001b[39;49mkwargs)\n",
      "File \u001b[0;32m~/opt/anaconda3/envs/xlum/lib/python3.10/site-packages/pandas/plotting/_matplotlib/__init__.py:71\u001b[0m, in \u001b[0;36mplot\u001b[0;34m(data, kind, **kwargs)\u001b[0m\n\u001b[1;32m     <a href='file:///Users/sgrehl/opt/anaconda3/envs/xlum/lib/python3.10/site-packages/pandas/plotting/_matplotlib/__init__.py?line=68'>69</a>\u001b[0m         kwargs[\u001b[39m\"\u001b[39m\u001b[39max\u001b[39m\u001b[39m\"\u001b[39m] \u001b[39m=\u001b[39m \u001b[39mgetattr\u001b[39m(ax, \u001b[39m\"\u001b[39m\u001b[39mleft_ax\u001b[39m\u001b[39m\"\u001b[39m, ax)\n\u001b[1;32m     <a href='file:///Users/sgrehl/opt/anaconda3/envs/xlum/lib/python3.10/site-packages/pandas/plotting/_matplotlib/__init__.py?line=69'>70</a>\u001b[0m plot_obj \u001b[39m=\u001b[39m PLOT_CLASSES[kind](data, \u001b[39m*\u001b[39m\u001b[39m*\u001b[39mkwargs)\n\u001b[0;32m---> <a href='file:///Users/sgrehl/opt/anaconda3/envs/xlum/lib/python3.10/site-packages/pandas/plotting/_matplotlib/__init__.py?line=70'>71</a>\u001b[0m plot_obj\u001b[39m.\u001b[39;49mgenerate()\n\u001b[1;32m     <a href='file:///Users/sgrehl/opt/anaconda3/envs/xlum/lib/python3.10/site-packages/pandas/plotting/_matplotlib/__init__.py?line=71'>72</a>\u001b[0m plot_obj\u001b[39m.\u001b[39mdraw()\n\u001b[1;32m     <a href='file:///Users/sgrehl/opt/anaconda3/envs/xlum/lib/python3.10/site-packages/pandas/plotting/_matplotlib/__init__.py?line=72'>73</a>\u001b[0m \u001b[39mreturn\u001b[39;00m plot_obj\u001b[39m.\u001b[39mresult\n",
      "File \u001b[0;32m~/opt/anaconda3/envs/xlum/lib/python3.10/site-packages/pandas/plotting/_matplotlib/core.py:327\u001b[0m, in \u001b[0;36mMPLPlot.generate\u001b[0;34m(self)\u001b[0m\n\u001b[1;32m    <a href='file:///Users/sgrehl/opt/anaconda3/envs/xlum/lib/python3.10/site-packages/pandas/plotting/_matplotlib/core.py?line=324'>325</a>\u001b[0m \u001b[39mdef\u001b[39;00m \u001b[39mgenerate\u001b[39m(\u001b[39mself\u001b[39m):\n\u001b[1;32m    <a href='file:///Users/sgrehl/opt/anaconda3/envs/xlum/lib/python3.10/site-packages/pandas/plotting/_matplotlib/core.py?line=325'>326</a>\u001b[0m     \u001b[39mself\u001b[39m\u001b[39m.\u001b[39m_args_adjust()\n\u001b[0;32m--> <a href='file:///Users/sgrehl/opt/anaconda3/envs/xlum/lib/python3.10/site-packages/pandas/plotting/_matplotlib/core.py?line=326'>327</a>\u001b[0m     \u001b[39mself\u001b[39;49m\u001b[39m.\u001b[39;49m_compute_plot_data()\n\u001b[1;32m    <a href='file:///Users/sgrehl/opt/anaconda3/envs/xlum/lib/python3.10/site-packages/pandas/plotting/_matplotlib/core.py?line=327'>328</a>\u001b[0m     \u001b[39mself\u001b[39m\u001b[39m.\u001b[39m_setup_subplots()\n\u001b[1;32m    <a href='file:///Users/sgrehl/opt/anaconda3/envs/xlum/lib/python3.10/site-packages/pandas/plotting/_matplotlib/core.py?line=328'>329</a>\u001b[0m     \u001b[39mself\u001b[39m\u001b[39m.\u001b[39m_make_plot()\n",
      "File \u001b[0;32m~/opt/anaconda3/envs/xlum/lib/python3.10/site-packages/pandas/plotting/_matplotlib/core.py:506\u001b[0m, in \u001b[0;36mMPLPlot._compute_plot_data\u001b[0;34m(self)\u001b[0m\n\u001b[1;32m    <a href='file:///Users/sgrehl/opt/anaconda3/envs/xlum/lib/python3.10/site-packages/pandas/plotting/_matplotlib/core.py?line=503'>504</a>\u001b[0m \u001b[39m# no non-numeric frames or series allowed\u001b[39;00m\n\u001b[1;32m    <a href='file:///Users/sgrehl/opt/anaconda3/envs/xlum/lib/python3.10/site-packages/pandas/plotting/_matplotlib/core.py?line=504'>505</a>\u001b[0m \u001b[39mif\u001b[39;00m is_empty:\n\u001b[0;32m--> <a href='file:///Users/sgrehl/opt/anaconda3/envs/xlum/lib/python3.10/site-packages/pandas/plotting/_matplotlib/core.py?line=505'>506</a>\u001b[0m     \u001b[39mraise\u001b[39;00m \u001b[39mTypeError\u001b[39;00m(\u001b[39m\"\u001b[39m\u001b[39mno numeric data to plot\u001b[39m\u001b[39m\"\u001b[39m)\n\u001b[1;32m    <a href='file:///Users/sgrehl/opt/anaconda3/envs/xlum/lib/python3.10/site-packages/pandas/plotting/_matplotlib/core.py?line=507'>508</a>\u001b[0m \u001b[39mself\u001b[39m\u001b[39m.\u001b[39mdata \u001b[39m=\u001b[39m numeric_data\u001b[39m.\u001b[39mapply(\u001b[39mself\u001b[39m\u001b[39m.\u001b[39m_convert_to_ndarray)\n",
      "\u001b[0;31mTypeError\u001b[0m: no numeric data to plot"
     ]
    }
   ],
   "source": [
    "df_curve = obj.lstSamples[0].lstSequences[0].lstRecords[0].lstCurves[0].df\n",
    "df_curve[\"curve\"].plot(axis=1)"
   ]
  },
  {
   "cell_type": "code",
   "execution_count": 17,
   "metadata": {},
   "outputs": [
    {
     "ename": "TypeError",
     "evalue": "PlotAccessor.__init__() got an unexpected keyword argument 'x'",
     "output_type": "error",
     "traceback": [
      "\u001b[0;31m---------------------------------------------------------------------------\u001b[0m",
      "\u001b[0;31mTypeError\u001b[0m                                 Traceback (most recent call last)",
      "\u001b[1;32m/Users/sgrehl/Documents/GIT/xlum/python/xlum-python/notebooks/example.ipynb Cell 14'\u001b[0m in \u001b[0;36m<cell line: 1>\u001b[0;34m()\u001b[0m\n\u001b[0;32m----> <a href='vscode-notebook-cell:/Users/sgrehl/Documents/GIT/xlum/python/xlum-python/notebooks/example.ipynb#ch0000018?line=0'>1</a>\u001b[0m pd\u001b[39m.\u001b[39;49mDataFrame\u001b[39m.\u001b[39;49mplot(df_curve, x\u001b[39m=\u001b[39;49m\u001b[39m\"\u001b[39;49m\u001b[39mcurve\u001b[39;49m\u001b[39m\"\u001b[39;49m)\n",
      "\u001b[0;31mTypeError\u001b[0m: PlotAccessor.__init__() got an unexpected keyword argument 'x'"
     ]
    }
   ],
   "source": [
    "pd.DataFrame.plot(df_curve, x=\"curve\")"
   ]
  },
  {
   "cell_type": "code",
   "execution_count": 20,
   "metadata": {},
   "outputs": [
    {
     "data": {
      "text/plain": [
       "True"
      ]
     },
     "execution_count": 20,
     "metadata": {},
     "output_type": "execute_result"
    }
   ],
   "source": [
    "\"plot\" in dir(df_curve)"
   ]
  },
  {
   "cell_type": "code",
   "execution_count": 22,
   "metadata": {},
   "outputs": [
    {
     "data": {
      "text/plain": [
       "<AxesSubplot:>"
      ]
     },
     "execution_count": 22,
     "metadata": {},
     "output_type": "execute_result"
    },
    {
     "data": {
      "image/png": "[encoded data removed]",
      "text/plain": [
       "<Figure size 432x288 with 1 Axes>"
      ]
     },
     "metadata": {
      "needs_background": "light"
     },
     "output_type": "display_data"
    }
   ],
   "source": [
    "df_curve.plot()"
   ]
  },
  {
   "cell_type": "code",
   "execution_count": null,
   "metadata": {},
   "outputs": [],
   "source": []
  }
 ],
 "metadata": {
  "interpreter": {
   "hash": "f6057ac47c5dfc413f52a8e07c67aa321833aeaea7ef4036828ac9bc9471f378"
  },
  "kernelspec": {
   "display_name": "Python 3.10.4 ('xlum')",
   "language": "python",
   "name": "python3"
  },
  "language_info": {
   "codemirror_mode": {
    "name": "ipython",
    "version": 3
   },
   "file_extension": ".py",
   "mimetype": "text/x-python",
   "name": "python",
   "nbconvert_exporter": "python",
   "pygments_lexer": "ipython3",
   "version": "3.10.4"
  },
  "orig_nbformat": 4
 },
 "nbformat": 4,
 "nbformat_minor": 2
}
