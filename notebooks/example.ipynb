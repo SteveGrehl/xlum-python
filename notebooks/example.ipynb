{
 "cells": [
  {
   "cell_type": "markdown",
   "metadata": {},
   "source": [
    "# Example Usage of Xlum-python"
   ]
  },
  {
   "cell_type": "code",
   "execution_count": 1,
   "metadata": {},
   "outputs": [
    {
     "name": "stdout",
     "output_type": "stream",
     "text": [
      "c:\\Users\\Steve\\Documents\\Git-Repos\\xlum-python\\notebooks\n"
     ]
    }
   ],
   "source": [
    "import os\n",
    "print(os.getcwd())"
   ]
  },
  {
   "cell_type": "code",
   "execution_count": 4,
   "metadata": {},
   "outputs": [
    {
     "name": "stdout",
     "output_type": "stream",
     "text": [
      "c:\\Users\\Steve\\Documents\\Git-Repos\\xlum-python\\notebooks\n",
      "['c:\\\\Users\\\\Steve\\\\Documents\\\\Git-Repos\\\\xlum-python\\\\notebooks', 'c:\\\\Users\\\\Steve\\\\Documents\\\\Git-Repos\\\\xlum-python\\\\env\\\\python310.zip', 'c:\\\\Users\\\\Steve\\\\Documents\\\\Git-Repos\\\\xlum-python\\\\env\\\\DLLs', 'c:\\\\Users\\\\Steve\\\\Documents\\\\Git-Repos\\\\xlum-python\\\\env\\\\lib', 'c:\\\\Users\\\\Steve\\\\Documents\\\\Git-Repos\\\\xlum-python\\\\env', '', 'c:\\\\Users\\\\Steve\\\\Documents\\\\Git-Repos\\\\xlum-python\\\\env\\\\lib\\\\site-packages', 'c:\\\\Users\\\\Steve\\\\Documents\\\\Git-Repos\\\\xlum-python\\\\env\\\\lib\\\\site-packages\\\\win32', 'c:\\\\Users\\\\Steve\\\\Documents\\\\Git-Repos\\\\xlum-python\\\\env\\\\lib\\\\site-packages\\\\win32\\\\lib', 'c:\\\\Users\\\\Steve\\\\Documents\\\\Git-Repos\\\\xlum-python\\\\env\\\\lib\\\\site-packages\\\\Pythonwin', 'c:\\\\Users\\\\Steve\\\\Documents\\\\Git-Repos\\\\xlum-python\\\\notebooks\\\\../xlum', 'c:\\\\Users\\\\Steve\\\\Documents\\\\Git-Repos\\\\xlum-python\\\\notebooks\\\\..\\\\xlum']\n"
     ]
    }
   ],
   "source": [
    "import sys\n",
    "import os\n",
    "import pandas as pd\n",
    "from dataclasses import asdict\n",
    "\n",
    "print(os.getcwd())\n",
    "\n",
    "DIRNAME = os.getcwd()\n",
    "sys.path.append(\n",
    "    os.path.join(\n",
    "        DIRNAME,\n",
    "        '..',\n",
    "        'xlum'\n",
    "        )\n",
    ")\n",
    "print(sys.path)\n",
    "from data.classes import XlumMeta, Sample, Record, Sequence, Curve\n",
    "import importer"
   ]
  },
  {
   "cell_type": "code",
   "execution_count": 5,
   "metadata": {},
   "outputs": [
    {
     "name": "stdout",
     "output_type": "stream",
     "text": [
      "sample\n"
     ]
    }
   ],
   "source": [
    "obj: XlumMeta = importer.from_xlum(\n",
    "    os.path.join(\n",
    "        DIRNAME,\n",
    "        \"..\",\n",
    "        \"assets\",\n",
    "        \"xlum_example.xlum\"\n",
    "    )\n",
    ")"
   ]
  },
  {
   "cell_type": "code",
   "execution_count": 6,
   "metadata": {},
   "outputs": [
    {
     "data": {
      "text/html": [
       "<div>\n",
       "<style scoped>\n",
       "    .dataframe tbody tr th:only-of-type {\n",
       "        vertical-align: middle;\n",
       "    }\n",
       "\n",
       "    .dataframe tbody tr th {\n",
       "        vertical-align: top;\n",
       "    }\n",
       "\n",
       "    .dataframe thead th {\n",
       "        text-align: right;\n",
       "    }\n",
       "</style>\n",
       "<table border=\"1\" class=\"dataframe\">\n",
       "  <thead>\n",
       "    <tr style=\"text-align: right;\">\n",
       "      <th></th>\n",
       "      <th>XlumMeta.formatVersion</th>\n",
       "      <th>XlumMeta.author</th>\n",
       "      <th>XlumMeta.lang</th>\n",
       "      <th>XlumMeta.license</th>\n",
       "      <th>Samples.name</th>\n",
       "      <th>Samples.mineral</th>\n",
       "      <th>Samples.latitude</th>\n",
       "      <th>Samples.longitude</th>\n",
       "      <th>Samples.altitude</th>\n",
       "      <th>Samples.doi</th>\n",
       "      <th>Samples.comment</th>\n",
       "      <th>Samples.state</th>\n",
       "      <th>Samples.parentID</th>\n",
       "    </tr>\n",
       "  </thead>\n",
       "  <tbody>\n",
       "    <tr>\n",
       "      <th>0</th>\n",
       "      <td>1.0</td>\n",
       "      <td>Marie Skłodowska-Curie; Max Karl Ernst Ludwig ...</td>\n",
       "      <td>en</td>\n",
       "      <td>CC BY 4.0</td>\n",
       "      <td>LUM-21321</td>\n",
       "      <td>quartz</td>\n",
       "      <td>52.409139</td>\n",
       "      <td>-4.070245</td>\n",
       "      <td>50.0</td>\n",
       "      <td>valid DOI</td>\n",
       "      <td>NA</td>\n",
       "      <td>State.UNKNOWN</td>\n",
       "      <td>NA</td>\n",
       "    </tr>\n",
       "  </tbody>\n",
       "</table>\n",
       "</div>"
      ],
      "text/plain": [
       "  XlumMeta.formatVersion                                    XlumMeta.author  \\\n",
       "0                    1.0  Marie Skłodowska-Curie; Max Karl Ernst Ludwig ...   \n",
       "\n",
       "  XlumMeta.lang XlumMeta.license Samples.name Samples.mineral  \\\n",
       "0            en        CC BY 4.0    LUM-21321          quartz   \n",
       "\n",
       "   Samples.latitude  Samples.longitude  Samples.altitude Samples.doi  \\\n",
       "0         52.409139          -4.070245              50.0   valid DOI   \n",
       "\n",
       "  Samples.comment  Samples.state Samples.parentID  \n",
       "0              NA  State.UNKNOWN               NA  "
      ]
     },
     "execution_count": 6,
     "metadata": {},
     "output_type": "execute_result"
    }
   ],
   "source": [
    "obj.df"
   ]
  },
  {
   "cell_type": "code",
   "execution_count": 7,
   "metadata": {},
   "outputs": [
    {
     "data": {
      "text/html": [
       "<div>\n",
       "<style scoped>\n",
       "    .dataframe tbody tr th:only-of-type {\n",
       "        vertical-align: middle;\n",
       "    }\n",
       "\n",
       "    .dataframe tbody tr th {\n",
       "        vertical-align: top;\n",
       "    }\n",
       "\n",
       "    .dataframe thead th {\n",
       "        text-align: right;\n",
       "    }\n",
       "</style>\n",
       "<table border=\"1\" class=\"dataframe\">\n",
       "  <thead>\n",
       "    <tr style=\"text-align: right;\">\n",
       "      <th></th>\n",
       "      <th>Sample.name</th>\n",
       "      <th>Sample.mineral</th>\n",
       "      <th>Sample.latitude</th>\n",
       "      <th>Sample.longitude</th>\n",
       "      <th>Sample.altitude</th>\n",
       "      <th>Sample.doi</th>\n",
       "      <th>Sample.comment</th>\n",
       "      <th>Sample.state</th>\n",
       "      <th>Sample.parentID</th>\n",
       "      <th>Sequences.fileName</th>\n",
       "      <th>Sequences.software</th>\n",
       "      <th>Sequences.readerName</th>\n",
       "      <th>Sequences.readerSN</th>\n",
       "      <th>Sequences.readerFW</th>\n",
       "      <th>Sequences.comment</th>\n",
       "      <th>Sequences.state</th>\n",
       "      <th>Sequences.parentID</th>\n",
       "    </tr>\n",
       "  </thead>\n",
       "  <tbody>\n",
       "    <tr>\n",
       "      <th>0</th>\n",
       "      <td>LUM-21321</td>\n",
       "      <td>quartz</td>\n",
       "      <td>52.409139</td>\n",
       "      <td>-4.070245</td>\n",
       "      <td>50.0</td>\n",
       "      <td>valid DOI</td>\n",
       "      <td>NA</td>\n",
       "      <td>State.UNKNOWN</td>\n",
       "      <td>NA</td>\n",
       "      <td>Testsequence.seq</td>\n",
       "      <td>DeviceEditor 2.0</td>\n",
       "      <td>NA</td>\n",
       "      <td>NA</td>\n",
       "      <td>NA</td>\n",
       "      <td>NA</td>\n",
       "      <td>State.UNKNOWN</td>\n",
       "      <td>NA</td>\n",
       "    </tr>\n",
       "  </tbody>\n",
       "</table>\n",
       "</div>"
      ],
      "text/plain": [
       "  Sample.name Sample.mineral  Sample.latitude  Sample.longitude  \\\n",
       "0   LUM-21321         quartz        52.409139         -4.070245   \n",
       "\n",
       "   Sample.altitude Sample.doi Sample.comment   Sample.state Sample.parentID  \\\n",
       "0             50.0  valid DOI             NA  State.UNKNOWN              NA   \n",
       "\n",
       "  Sequences.fileName Sequences.software Sequences.readerName  \\\n",
       "0   Testsequence.seq   DeviceEditor 2.0                   NA   \n",
       "\n",
       "  Sequences.readerSN Sequences.readerFW Sequences.comment Sequences.state  \\\n",
       "0                 NA                 NA                NA   State.UNKNOWN   \n",
       "\n",
       "  Sequences.parentID  \n",
       "0                 NA  "
      ]
     },
     "execution_count": 7,
     "metadata": {},
     "output_type": "execute_result"
    }
   ],
   "source": [
    "obj.lstSamples[0].df"
   ]
  },
  {
   "cell_type": "code",
   "execution_count": 8,
   "metadata": {},
   "outputs": [
    {
     "data": {
      "text/html": [
       "<div>\n",
       "<style scoped>\n",
       "    .dataframe tbody tr th:only-of-type {\n",
       "        vertical-align: middle;\n",
       "    }\n",
       "\n",
       "    .dataframe tbody tr th {\n",
       "        vertical-align: top;\n",
       "    }\n",
       "\n",
       "    .dataframe thead th {\n",
       "        text-align: right;\n",
       "    }\n",
       "</style>\n",
       "<table border=\"1\" class=\"dataframe\">\n",
       "  <thead>\n",
       "    <tr style=\"text-align: right;\">\n",
       "      <th></th>\n",
       "      <th>Sequence.fileName</th>\n",
       "      <th>Sequence.software</th>\n",
       "      <th>Sequence.readerName</th>\n",
       "      <th>Sequence.readerSN</th>\n",
       "      <th>Sequence.readerFW</th>\n",
       "      <th>Sequence.comment</th>\n",
       "      <th>Sequence.state</th>\n",
       "      <th>Sequence.parentID</th>\n",
       "      <th>Records.recordType</th>\n",
       "      <th>Records.sequenceStepNumber</th>\n",
       "      <th>Records.sampleCondition</th>\n",
       "      <th>Records.comment</th>\n",
       "      <th>Records.state</th>\n",
       "      <th>Records.parentID</th>\n",
       "    </tr>\n",
       "  </thead>\n",
       "  <tbody>\n",
       "    <tr>\n",
       "      <th>0</th>\n",
       "      <td>Testsequence.seq</td>\n",
       "      <td>DeviceEditor 2.0</td>\n",
       "      <td>NA</td>\n",
       "      <td>NA</td>\n",
       "      <td>NA</td>\n",
       "      <td>NA</td>\n",
       "      <td>State.UNKNOWN</td>\n",
       "      <td>NA</td>\n",
       "      <td>RecordType.TL</td>\n",
       "      <td>1</td>\n",
       "      <td>SampleCondition.NA</td>\n",
       "      <td>NA</td>\n",
       "      <td>State.UNKNOWN</td>\n",
       "      <td>NA</td>\n",
       "    </tr>\n",
       "    <tr>\n",
       "      <th>1</th>\n",
       "      <td>NaN</td>\n",
       "      <td>NaN</td>\n",
       "      <td>NaN</td>\n",
       "      <td>NaN</td>\n",
       "      <td>NaN</td>\n",
       "      <td>NaN</td>\n",
       "      <td>NaN</td>\n",
       "      <td>NaN</td>\n",
       "      <td>RecordType.GSL</td>\n",
       "      <td>2</td>\n",
       "      <td>SampleCondition.NA</td>\n",
       "      <td>standard green OSL step</td>\n",
       "      <td>State.NA</td>\n",
       "      <td>standard green OSL step</td>\n",
       "    </tr>\n",
       "  </tbody>\n",
       "</table>\n",
       "</div>"
      ],
      "text/plain": [
       "  Sequence.fileName Sequence.software Sequence.readerName Sequence.readerSN  \\\n",
       "0  Testsequence.seq  DeviceEditor 2.0                  NA                NA   \n",
       "1               NaN               NaN                 NaN               NaN   \n",
       "\n",
       "  Sequence.readerFW Sequence.comment Sequence.state Sequence.parentID  \\\n",
       "0                NA               NA  State.UNKNOWN                NA   \n",
       "1               NaN              NaN            NaN               NaN   \n",
       "\n",
       "  Records.recordType  Records.sequenceStepNumber Records.sampleCondition  \\\n",
       "0      RecordType.TL                           1      SampleCondition.NA   \n",
       "1     RecordType.GSL                           2      SampleCondition.NA   \n",
       "\n",
       "           Records.comment  Records.state         Records.parentID  \n",
       "0                       NA  State.UNKNOWN                       NA  \n",
       "1  standard green OSL step       State.NA  standard green OSL step  "
      ]
     },
     "execution_count": 8,
     "metadata": {},
     "output_type": "execute_result"
    }
   ],
   "source": [
    "obj.lstSamples[0].lstSequences[0].df"
   ]
  },
  {
   "cell_type": "code",
   "execution_count": 9,
   "metadata": {},
   "outputs": [
    {
     "data": {
      "text/html": [
       "<div>\n",
       "<style scoped>\n",
       "    .dataframe tbody tr th:only-of-type {\n",
       "        vertical-align: middle;\n",
       "    }\n",
       "\n",
       "    .dataframe tbody tr th {\n",
       "        vertical-align: top;\n",
       "    }\n",
       "\n",
       "    .dataframe thead th {\n",
       "        text-align: right;\n",
       "    }\n",
       "</style>\n",
       "<table border=\"1\" class=\"dataframe\">\n",
       "  <thead>\n",
       "    <tr style=\"text-align: right;\">\n",
       "      <th></th>\n",
       "      <th>Record.recordType</th>\n",
       "      <th>Record.sequenceStepNumber</th>\n",
       "      <th>Record.sampleCondition</th>\n",
       "      <th>Record.comment</th>\n",
       "      <th>Record.state</th>\n",
       "      <th>Record.parentID</th>\n",
       "      <th>Curves.component</th>\n",
       "      <th>Curves.startDate</th>\n",
       "      <th>Curves.curveType</th>\n",
       "      <th>Curves.duration</th>\n",
       "      <th>...</th>\n",
       "      <th>Curves.vLabel</th>\n",
       "      <th>Curves.xUnit</th>\n",
       "      <th>Curves.yUnit</th>\n",
       "      <th>Curves.tUnit</th>\n",
       "      <th>Curves.vUnit</th>\n",
       "      <th>Curves.detectionWindow</th>\n",
       "      <th>Curves.filter</th>\n",
       "      <th>Curves.comment</th>\n",
       "      <th>Curves.state</th>\n",
       "      <th>Curves.parentID</th>\n",
       "    </tr>\n",
       "  </thead>\n",
       "  <tbody>\n",
       "    <tr>\n",
       "      <th>0</th>\n",
       "      <td>RecordType.TL</td>\n",
       "      <td>1.0</td>\n",
       "      <td>SampleCondition.NA</td>\n",
       "      <td>NA</td>\n",
       "      <td>State.UNKNOWN</td>\n",
       "      <td>NA</td>\n",
       "      <td>NA</td>\n",
       "      <td>2021-02-14 22:57:12</td>\n",
       "      <td>CurveType.MEASURED</td>\n",
       "      <td>0.0</td>\n",
       "      <td>...</td>\n",
       "      <td>NA</td>\n",
       "      <td>NA</td>\n",
       "      <td>NA</td>\n",
       "      <td>NA</td>\n",
       "      <td>NA</td>\n",
       "      <td>NA</td>\n",
       "      <td>NA</td>\n",
       "      <td>NA</td>\n",
       "      <td>State.UNKNOWN</td>\n",
       "      <td>NA</td>\n",
       "    </tr>\n",
       "    <tr>\n",
       "      <th>1</th>\n",
       "      <td>NaN</td>\n",
       "      <td>NaN</td>\n",
       "      <td>NaN</td>\n",
       "      <td>NaN</td>\n",
       "      <td>NaN</td>\n",
       "      <td>NaN</td>\n",
       "      <td>NA</td>\n",
       "      <td>2021-02-14 22:57:12</td>\n",
       "      <td>CurveType.MEASURED</td>\n",
       "      <td>0.0</td>\n",
       "      <td>...</td>\n",
       "      <td>NA</td>\n",
       "      <td>NA</td>\n",
       "      <td>NA</td>\n",
       "      <td>NA</td>\n",
       "      <td>NA</td>\n",
       "      <td>NA</td>\n",
       "      <td>NA</td>\n",
       "      <td>NA</td>\n",
       "      <td>State.UNKNOWN</td>\n",
       "      <td>NA</td>\n",
       "    </tr>\n",
       "  </tbody>\n",
       "</table>\n",
       "<p>2 rows × 27 columns</p>\n",
       "</div>"
      ],
      "text/plain": [
       "  Record.recordType  Record.sequenceStepNumber Record.sampleCondition  \\\n",
       "0     RecordType.TL                        1.0     SampleCondition.NA   \n",
       "1               NaN                        NaN                    NaN   \n",
       "\n",
       "  Record.comment   Record.state Record.parentID Curves.component  \\\n",
       "0             NA  State.UNKNOWN              NA               NA   \n",
       "1            NaN            NaN             NaN               NA   \n",
       "\n",
       "     Curves.startDate    Curves.curveType  Curves.duration  ...  \\\n",
       "0 2021-02-14 22:57:12  CurveType.MEASURED              0.0  ...   \n",
       "1 2021-02-14 22:57:12  CurveType.MEASURED              0.0  ...   \n",
       "\n",
       "   Curves.vLabel Curves.xUnit Curves.yUnit Curves.tUnit Curves.vUnit  \\\n",
       "0             NA           NA           NA           NA           NA   \n",
       "1             NA           NA           NA           NA           NA   \n",
       "\n",
       "  Curves.detectionWindow Curves.filter Curves.comment   Curves.state  \\\n",
       "0                     NA            NA             NA  State.UNKNOWN   \n",
       "1                     NA            NA             NA  State.UNKNOWN   \n",
       "\n",
       "  Curves.parentID  \n",
       "0              NA  \n",
       "1              NA  \n",
       "\n",
       "[2 rows x 27 columns]"
      ]
     },
     "execution_count": 9,
     "metadata": {},
     "output_type": "execute_result"
    }
   ],
   "source": [
    "obj.lstSamples[0].lstSequences[0].lstRecords[0].df"
   ]
  },
  {
   "cell_type": "code",
   "execution_count": 10,
   "metadata": {},
   "outputs": [
    {
     "data": {
      "text/html": [
       "<div>\n",
       "<style scoped>\n",
       "    .dataframe tbody tr th:only-of-type {\n",
       "        vertical-align: middle;\n",
       "    }\n",
       "\n",
       "    .dataframe tbody tr th {\n",
       "        vertical-align: top;\n",
       "    }\n",
       "\n",
       "    .dataframe thead th {\n",
       "        text-align: right;\n",
       "    }\n",
       "</style>\n",
       "<table border=\"1\" class=\"dataframe\">\n",
       "  <thead>\n",
       "    <tr style=\"text-align: right;\">\n",
       "      <th></th>\n",
       "      <th>curve</th>\n",
       "      <th>component</th>\n",
       "      <th>startDate</th>\n",
       "      <th>curveType</th>\n",
       "      <th>duration</th>\n",
       "      <th>offset</th>\n",
       "      <th>xValues</th>\n",
       "      <th>yValues</th>\n",
       "      <th>tValues</th>\n",
       "      <th>xLabel</th>\n",
       "      <th>...</th>\n",
       "      <th>vLabel</th>\n",
       "      <th>xUnit</th>\n",
       "      <th>yUnit</th>\n",
       "      <th>tUnit</th>\n",
       "      <th>vUnit</th>\n",
       "      <th>detectionWindow</th>\n",
       "      <th>filter</th>\n",
       "      <th>Curve.comment</th>\n",
       "      <th>Curve.state</th>\n",
       "      <th>Curve.parentID</th>\n",
       "    </tr>\n",
       "  </thead>\n",
       "  <tbody>\n",
       "    <tr>\n",
       "      <th>0</th>\n",
       "      <td>[293.0, 303.0, 313.0, 323.0, 333.0, 343.0, 353...</td>\n",
       "      <td>NA</td>\n",
       "      <td>2021-02-14 22:57:12</td>\n",
       "      <td>CurveType.MEASURED</td>\n",
       "      <td>0.0</td>\n",
       "      <td>0.0</td>\n",
       "      <td>[]</td>\n",
       "      <td>[]</td>\n",
       "      <td>[]</td>\n",
       "      <td>NA</td>\n",
       "      <td>...</td>\n",
       "      <td>NA</td>\n",
       "      <td>NA</td>\n",
       "      <td>NA</td>\n",
       "      <td>NA</td>\n",
       "      <td>NA</td>\n",
       "      <td>NA</td>\n",
       "      <td>NA</td>\n",
       "      <td>NA</td>\n",
       "      <td>State.UNKNOWN</td>\n",
       "      <td>NA</td>\n",
       "    </tr>\n",
       "  </tbody>\n",
       "</table>\n",
       "<p>1 rows × 22 columns</p>\n",
       "</div>"
      ],
      "text/plain": [
       "                                               curve component  \\\n",
       "0  [293.0, 303.0, 313.0, 323.0, 333.0, 343.0, 353...        NA   \n",
       "\n",
       "            startDate           curveType  duration  offset xValues yValues  \\\n",
       "0 2021-02-14 22:57:12  CurveType.MEASURED       0.0     0.0      []      []   \n",
       "\n",
       "  tValues xLabel  ... vLabel xUnit yUnit tUnit vUnit detectionWindow filter  \\\n",
       "0      []     NA  ...     NA    NA    NA    NA    NA              NA     NA   \n",
       "\n",
       "  Curve.comment    Curve.state Curve.parentID  \n",
       "0            NA  State.UNKNOWN             NA  \n",
       "\n",
       "[1 rows x 22 columns]"
      ]
     },
     "execution_count": 10,
     "metadata": {},
     "output_type": "execute_result"
    }
   ],
   "source": [
    "obj.lstSamples[0].lstSequences[0].lstRecords[0].lstCurves[0].df"
   ]
  },
  {
   "cell_type": "code",
   "execution_count": 11,
   "metadata": {},
   "outputs": [
    {
     "data": {
      "text/plain": [
       "[293.0, 303.0, 313.0, 323.0, 333.0, 343.0, 353.0, 363.0, 373.0, 383.0]"
      ]
     },
     "execution_count": 11,
     "metadata": {},
     "output_type": "execute_result"
    }
   ],
   "source": [
    "obj.lstSamples[0].lstSequences[0].lstRecords[0].lstCurves[0].lstValues"
   ]
  },
  {
   "cell_type": "code",
   "execution_count": 12,
   "metadata": {},
   "outputs": [
    {
     "name": "stdout",
     "output_type": "stream",
     "text": [
      "float 293.0\n"
     ]
    }
   ],
   "source": [
    "curve = obj.lstSamples[0].lstSequences[0].lstRecords[0].lstCurves[0].lstValues\n",
    "print(curve[0].__class__.__name__, curve[0])"
   ]
  },
  {
   "cell_type": "markdown",
   "metadata": {},
   "source": [
    "## Showcase Pandas functions\n",
    "\n",
    "### Requirements\n",
    "- MatPlotLib: `conda install matplotlib`"
   ]
  },
  {
   "cell_type": "code",
   "execution_count": 22,
   "metadata": {},
   "outputs": [
    {
     "data": {
      "text/plain": [
       "Text(0.5, 1.0, 'TL')"
      ]
     },
     "execution_count": 22,
     "metadata": {},
     "output_type": "execute_result"
    },
    {
     "data": {
      "image/png": "[encoded data removed]",
      "text/plain": [
       "<Figure size 432x288 with 1 Axes>"
      ]
     },
     "metadata": {
      "needs_background": "light"
     },
     "output_type": "display_data"
    }
   ],
   "source": [
    "from matplotlib import pyplot as plt\n",
    "\n",
    "for curve in obj.lstSamples[0].lstSequences[0].lstRecords[0].lstCurves:\n",
    "    plt.plot(curve.lstValues)\n",
    "    plt.xlabel(f\"{curve.tLabel} in [{curve.tUnit}]\")\n",
    "plt.title(obj.lstSamples[0].lstSequences[0].lstRecords[0].recordType.name)"
   ]
  },
  {
   "cell_type": "code",
   "execution_count": 15,
   "metadata": {},
   "outputs": [
    {
     "ename": "AttributeError",
     "evalue": "'Line2D' object has no property 'axis'",
     "output_type": "error",
     "traceback": [
      "\u001b[1;31m---------------------------------------------------------------------------\u001b[0m",
      "\u001b[1;31mAttributeError\u001b[0m                            Traceback (most recent call last)",
      "\u001b[1;32mc:\\Users\\Steve\\Documents\\Git-Repos\\xlum-python\\notebooks\\example.ipynb Cell 14'\u001b[0m in \u001b[0;36m<cell line: 2>\u001b[1;34m()\u001b[0m\n\u001b[0;32m      <a href='vscode-notebook-cell:/c%3A/Users/Steve/Documents/Git-Repos/xlum-python/notebooks/example.ipynb#ch0000014?line=0'>1</a>\u001b[0m df_curve \u001b[39m=\u001b[39m obj\u001b[39m.\u001b[39mlstSamples[\u001b[39m0\u001b[39m]\u001b[39m.\u001b[39mlstSequences[\u001b[39m0\u001b[39m]\u001b[39m.\u001b[39mlstRecords[\u001b[39m0\u001b[39m]\u001b[39m.\u001b[39mlstCurves[\u001b[39m0\u001b[39m]\u001b[39m.\u001b[39mdf\n\u001b[1;32m----> <a href='vscode-notebook-cell:/c%3A/Users/Steve/Documents/Git-Repos/xlum-python/notebooks/example.ipynb#ch0000014?line=1'>2</a>\u001b[0m df_curve\u001b[39m.\u001b[39;49mplot(axis\u001b[39m=\u001b[39;49m\u001b[39m1\u001b[39;49m)\n",
      "File \u001b[1;32mc:\\Users\\Steve\\Documents\\Git-Repos\\xlum-python\\env\\lib\\site-packages\\pandas\\plotting\\_core.py:972\u001b[0m, in \u001b[0;36mPlotAccessor.__call__\u001b[1;34m(self, *args, **kwargs)\u001b[0m\n\u001b[0;32m    <a href='file:///c%3A/Users/Steve/Documents/Git-Repos/xlum-python/env/lib/site-packages/pandas/plotting/_core.py?line=968'>969</a>\u001b[0m             label_name \u001b[39m=\u001b[39m label_kw \u001b[39mor\u001b[39;00m data\u001b[39m.\u001b[39mcolumns\n\u001b[0;32m    <a href='file:///c%3A/Users/Steve/Documents/Git-Repos/xlum-python/env/lib/site-packages/pandas/plotting/_core.py?line=969'>970</a>\u001b[0m             data\u001b[39m.\u001b[39mcolumns \u001b[39m=\u001b[39m label_name\n\u001b[1;32m--> <a href='file:///c%3A/Users/Steve/Documents/Git-Repos/xlum-python/env/lib/site-packages/pandas/plotting/_core.py?line=971'>972</a>\u001b[0m \u001b[39mreturn\u001b[39;00m plot_backend\u001b[39m.\u001b[39mplot(data, kind\u001b[39m=\u001b[39mkind, \u001b[39m*\u001b[39m\u001b[39m*\u001b[39mkwargs)\n",
      "File \u001b[1;32mc:\\Users\\Steve\\Documents\\Git-Repos\\xlum-python\\env\\lib\\site-packages\\pandas\\plotting\\_matplotlib\\__init__.py:71\u001b[0m, in \u001b[0;36mplot\u001b[1;34m(data, kind, **kwargs)\u001b[0m\n\u001b[0;32m     <a href='file:///c%3A/Users/Steve/Documents/Git-Repos/xlum-python/env/lib/site-packages/pandas/plotting/_matplotlib/__init__.py?line=68'>69</a>\u001b[0m         kwargs[\u001b[39m\"\u001b[39m\u001b[39max\u001b[39m\u001b[39m\"\u001b[39m] \u001b[39m=\u001b[39m \u001b[39mgetattr\u001b[39m(ax, \u001b[39m\"\u001b[39m\u001b[39mleft_ax\u001b[39m\u001b[39m\"\u001b[39m, ax)\n\u001b[0;32m     <a href='file:///c%3A/Users/Steve/Documents/Git-Repos/xlum-python/env/lib/site-packages/pandas/plotting/_matplotlib/__init__.py?line=69'>70</a>\u001b[0m plot_obj \u001b[39m=\u001b[39m PLOT_CLASSES[kind](data, \u001b[39m*\u001b[39m\u001b[39m*\u001b[39mkwargs)\n\u001b[1;32m---> <a href='file:///c%3A/Users/Steve/Documents/Git-Repos/xlum-python/env/lib/site-packages/pandas/plotting/_matplotlib/__init__.py?line=70'>71</a>\u001b[0m plot_obj\u001b[39m.\u001b[39;49mgenerate()\n\u001b[0;32m     <a href='file:///c%3A/Users/Steve/Documents/Git-Repos/xlum-python/env/lib/site-packages/pandas/plotting/_matplotlib/__init__.py?line=71'>72</a>\u001b[0m plot_obj\u001b[39m.\u001b[39mdraw()\n\u001b[0;32m     <a href='file:///c%3A/Users/Steve/Documents/Git-Repos/xlum-python/env/lib/site-packages/pandas/plotting/_matplotlib/__init__.py?line=72'>73</a>\u001b[0m \u001b[39mreturn\u001b[39;00m plot_obj\u001b[39m.\u001b[39mresult\n",
      "File \u001b[1;32mc:\\Users\\Steve\\Documents\\Git-Repos\\xlum-python\\env\\lib\\site-packages\\pandas\\plotting\\_matplotlib\\core.py:329\u001b[0m, in \u001b[0;36mMPLPlot.generate\u001b[1;34m(self)\u001b[0m\n\u001b[0;32m    <a href='file:///c%3A/Users/Steve/Documents/Git-Repos/xlum-python/env/lib/site-packages/pandas/plotting/_matplotlib/core.py?line=326'>327</a>\u001b[0m \u001b[39mself\u001b[39m\u001b[39m.\u001b[39m_compute_plot_data()\n\u001b[0;32m    <a href='file:///c%3A/Users/Steve/Documents/Git-Repos/xlum-python/env/lib/site-packages/pandas/plotting/_matplotlib/core.py?line=327'>328</a>\u001b[0m \u001b[39mself\u001b[39m\u001b[39m.\u001b[39m_setup_subplots()\n\u001b[1;32m--> <a href='file:///c%3A/Users/Steve/Documents/Git-Repos/xlum-python/env/lib/site-packages/pandas/plotting/_matplotlib/core.py?line=328'>329</a>\u001b[0m \u001b[39mself\u001b[39;49m\u001b[39m.\u001b[39;49m_make_plot()\n\u001b[0;32m    <a href='file:///c%3A/Users/Steve/Documents/Git-Repos/xlum-python/env/lib/site-packages/pandas/plotting/_matplotlib/core.py?line=329'>330</a>\u001b[0m \u001b[39mself\u001b[39m\u001b[39m.\u001b[39m_add_table()\n\u001b[0;32m    <a href='file:///c%3A/Users/Steve/Documents/Git-Repos/xlum-python/env/lib/site-packages/pandas/plotting/_matplotlib/core.py?line=330'>331</a>\u001b[0m \u001b[39mself\u001b[39m\u001b[39m.\u001b[39m_make_legend()\n",
      "File \u001b[1;32mc:\\Users\\Steve\\Documents\\Git-Repos\\xlum-python\\env\\lib\\site-packages\\pandas\\plotting\\_matplotlib\\core.py:1226\u001b[0m, in \u001b[0;36mLinePlot._make_plot\u001b[1;34m(self)\u001b[0m\n\u001b[0;32m   <a href='file:///c%3A/Users/Steve/Documents/Git-Repos/xlum-python/env/lib/site-packages/pandas/plotting/_matplotlib/core.py?line=1222'>1223</a>\u001b[0m label \u001b[39m=\u001b[39m \u001b[39mself\u001b[39m\u001b[39m.\u001b[39m_mark_right_label(label, index\u001b[39m=\u001b[39mi)\n\u001b[0;32m   <a href='file:///c%3A/Users/Steve/Documents/Git-Repos/xlum-python/env/lib/site-packages/pandas/plotting/_matplotlib/core.py?line=1223'>1224</a>\u001b[0m kwds[\u001b[39m\"\u001b[39m\u001b[39mlabel\u001b[39m\u001b[39m\"\u001b[39m] \u001b[39m=\u001b[39m label\n\u001b[1;32m-> <a href='file:///c%3A/Users/Steve/Documents/Git-Repos/xlum-python/env/lib/site-packages/pandas/plotting/_matplotlib/core.py?line=1225'>1226</a>\u001b[0m newlines \u001b[39m=\u001b[39m plotf(\n\u001b[0;32m   <a href='file:///c%3A/Users/Steve/Documents/Git-Repos/xlum-python/env/lib/site-packages/pandas/plotting/_matplotlib/core.py?line=1226'>1227</a>\u001b[0m     ax,\n\u001b[0;32m   <a href='file:///c%3A/Users/Steve/Documents/Git-Repos/xlum-python/env/lib/site-packages/pandas/plotting/_matplotlib/core.py?line=1227'>1228</a>\u001b[0m     x,\n\u001b[0;32m   <a href='file:///c%3A/Users/Steve/Documents/Git-Repos/xlum-python/env/lib/site-packages/pandas/plotting/_matplotlib/core.py?line=1228'>1229</a>\u001b[0m     y,\n\u001b[0;32m   <a href='file:///c%3A/Users/Steve/Documents/Git-Repos/xlum-python/env/lib/site-packages/pandas/plotting/_matplotlib/core.py?line=1229'>1230</a>\u001b[0m     style\u001b[39m=\u001b[39mstyle,\n\u001b[0;32m   <a href='file:///c%3A/Users/Steve/Documents/Git-Repos/xlum-python/env/lib/site-packages/pandas/plotting/_matplotlib/core.py?line=1230'>1231</a>\u001b[0m     column_num\u001b[39m=\u001b[39mi,\n\u001b[0;32m   <a href='file:///c%3A/Users/Steve/Documents/Git-Repos/xlum-python/env/lib/site-packages/pandas/plotting/_matplotlib/core.py?line=1231'>1232</a>\u001b[0m     stacking_id\u001b[39m=\u001b[39mstacking_id,\n\u001b[0;32m   <a href='file:///c%3A/Users/Steve/Documents/Git-Repos/xlum-python/env/lib/site-packages/pandas/plotting/_matplotlib/core.py?line=1232'>1233</a>\u001b[0m     is_errorbar\u001b[39m=\u001b[39mis_errorbar,\n\u001b[0;32m   <a href='file:///c%3A/Users/Steve/Documents/Git-Repos/xlum-python/env/lib/site-packages/pandas/plotting/_matplotlib/core.py?line=1233'>1234</a>\u001b[0m     \u001b[39m*\u001b[39m\u001b[39m*\u001b[39mkwds,\n\u001b[0;32m   <a href='file:///c%3A/Users/Steve/Documents/Git-Repos/xlum-python/env/lib/site-packages/pandas/plotting/_matplotlib/core.py?line=1234'>1235</a>\u001b[0m )\n\u001b[0;32m   <a href='file:///c%3A/Users/Steve/Documents/Git-Repos/xlum-python/env/lib/site-packages/pandas/plotting/_matplotlib/core.py?line=1235'>1236</a>\u001b[0m \u001b[39mself\u001b[39m\u001b[39m.\u001b[39m_append_legend_handles_labels(newlines[\u001b[39m0\u001b[39m], label)\n\u001b[0;32m   <a href='file:///c%3A/Users/Steve/Documents/Git-Repos/xlum-python/env/lib/site-packages/pandas/plotting/_matplotlib/core.py?line=1237'>1238</a>\u001b[0m \u001b[39mif\u001b[39;00m \u001b[39mself\u001b[39m\u001b[39m.\u001b[39m_is_ts_plot():\n\u001b[0;32m   <a href='file:///c%3A/Users/Steve/Documents/Git-Repos/xlum-python/env/lib/site-packages/pandas/plotting/_matplotlib/core.py?line=1238'>1239</a>\u001b[0m \n\u001b[0;32m   <a href='file:///c%3A/Users/Steve/Documents/Git-Repos/xlum-python/env/lib/site-packages/pandas/plotting/_matplotlib/core.py?line=1239'>1240</a>\u001b[0m     \u001b[39m# reset of xlim should be used for ts data\u001b[39;00m\n\u001b[0;32m   <a href='file:///c%3A/Users/Steve/Documents/Git-Repos/xlum-python/env/lib/site-packages/pandas/plotting/_matplotlib/core.py?line=1240'>1241</a>\u001b[0m     \u001b[39m# TODO: GH28021, should find a way to change view limit on xaxis\u001b[39;00m\n",
      "File \u001b[1;32mc:\\Users\\Steve\\Documents\\Git-Repos\\xlum-python\\env\\lib\\site-packages\\pandas\\plotting\\_matplotlib\\core.py:1256\u001b[0m, in \u001b[0;36mLinePlot._plot\u001b[1;34m(cls, ax, x, y, style, column_num, stacking_id, **kwds)\u001b[0m\n\u001b[0;32m   <a href='file:///c%3A/Users/Steve/Documents/Git-Repos/xlum-python/env/lib/site-packages/pandas/plotting/_matplotlib/core.py?line=1253'>1254</a>\u001b[0m     \u001b[39mcls\u001b[39m\u001b[39m.\u001b[39m_initialize_stacker(ax, stacking_id, \u001b[39mlen\u001b[39m(y))\n\u001b[0;32m   <a href='file:///c%3A/Users/Steve/Documents/Git-Repos/xlum-python/env/lib/site-packages/pandas/plotting/_matplotlib/core.py?line=1254'>1255</a>\u001b[0m y_values \u001b[39m=\u001b[39m \u001b[39mcls\u001b[39m\u001b[39m.\u001b[39m_get_stacked_values(ax, stacking_id, y, kwds[\u001b[39m\"\u001b[39m\u001b[39mlabel\u001b[39m\u001b[39m\"\u001b[39m])\n\u001b[1;32m-> <a href='file:///c%3A/Users/Steve/Documents/Git-Repos/xlum-python/env/lib/site-packages/pandas/plotting/_matplotlib/core.py?line=1255'>1256</a>\u001b[0m lines \u001b[39m=\u001b[39m MPLPlot\u001b[39m.\u001b[39m_plot(ax, x, y_values, style\u001b[39m=\u001b[39mstyle, \u001b[39m*\u001b[39m\u001b[39m*\u001b[39mkwds)\n\u001b[0;32m   <a href='file:///c%3A/Users/Steve/Documents/Git-Repos/xlum-python/env/lib/site-packages/pandas/plotting/_matplotlib/core.py?line=1256'>1257</a>\u001b[0m \u001b[39mcls\u001b[39m\u001b[39m.\u001b[39m_update_stacker(ax, stacking_id, y)\n\u001b[0;32m   <a href='file:///c%3A/Users/Steve/Documents/Git-Repos/xlum-python/env/lib/site-packages/pandas/plotting/_matplotlib/core.py?line=1257'>1258</a>\u001b[0m \u001b[39mreturn\u001b[39;00m lines\n",
      "File \u001b[1;32mc:\\Users\\Steve\\Documents\\Git-Repos\\xlum-python\\env\\lib\\site-packages\\pandas\\plotting\\_matplotlib\\converter.py:91\u001b[0m, in \u001b[0;36mregister_pandas_matplotlib_converters.<locals>.wrapper\u001b[1;34m(*args, **kwargs)\u001b[0m\n\u001b[0;32m     <a href='file:///c%3A/Users/Steve/Documents/Git-Repos/xlum-python/env/lib/site-packages/pandas/plotting/_matplotlib/converter.py?line=87'>88</a>\u001b[0m \u001b[39m@functools\u001b[39m\u001b[39m.\u001b[39mwraps(func)\n\u001b[0;32m     <a href='file:///c%3A/Users/Steve/Documents/Git-Repos/xlum-python/env/lib/site-packages/pandas/plotting/_matplotlib/converter.py?line=88'>89</a>\u001b[0m \u001b[39mdef\u001b[39;00m \u001b[39mwrapper\u001b[39m(\u001b[39m*\u001b[39margs, \u001b[39m*\u001b[39m\u001b[39m*\u001b[39mkwargs):\n\u001b[0;32m     <a href='file:///c%3A/Users/Steve/Documents/Git-Repos/xlum-python/env/lib/site-packages/pandas/plotting/_matplotlib/converter.py?line=89'>90</a>\u001b[0m     \u001b[39mwith\u001b[39;00m pandas_converters():\n\u001b[1;32m---> <a href='file:///c%3A/Users/Steve/Documents/Git-Repos/xlum-python/env/lib/site-packages/pandas/plotting/_matplotlib/converter.py?line=90'>91</a>\u001b[0m         \u001b[39mreturn\u001b[39;00m func(\u001b[39m*\u001b[39margs, \u001b[39m*\u001b[39m\u001b[39m*\u001b[39mkwargs)\n",
      "File \u001b[1;32mc:\\Users\\Steve\\Documents\\Git-Repos\\xlum-python\\env\\lib\\site-packages\\pandas\\plotting\\_matplotlib\\core.py:755\u001b[0m, in \u001b[0;36mMPLPlot._plot\u001b[1;34m(cls, ax, x, y, style, is_errorbar, **kwds)\u001b[0m\n\u001b[0;32m    <a href='file:///c%3A/Users/Steve/Documents/Git-Repos/xlum-python/env/lib/site-packages/pandas/plotting/_matplotlib/core.py?line=751'>752</a>\u001b[0m \u001b[39melse\u001b[39;00m:\n\u001b[0;32m    <a href='file:///c%3A/Users/Steve/Documents/Git-Repos/xlum-python/env/lib/site-packages/pandas/plotting/_matplotlib/core.py?line=752'>753</a>\u001b[0m     \u001b[39m# prevent style kwarg from going to errorbar, where it is unsupported\u001b[39;00m\n\u001b[0;32m    <a href='file:///c%3A/Users/Steve/Documents/Git-Repos/xlum-python/env/lib/site-packages/pandas/plotting/_matplotlib/core.py?line=753'>754</a>\u001b[0m     args \u001b[39m=\u001b[39m (x, y, style) \u001b[39mif\u001b[39;00m style \u001b[39mis\u001b[39;00m \u001b[39mnot\u001b[39;00m \u001b[39mNone\u001b[39;00m \u001b[39melse\u001b[39;00m (x, y)\n\u001b[1;32m--> <a href='file:///c%3A/Users/Steve/Documents/Git-Repos/xlum-python/env/lib/site-packages/pandas/plotting/_matplotlib/core.py?line=754'>755</a>\u001b[0m     \u001b[39mreturn\u001b[39;00m ax\u001b[39m.\u001b[39mplot(\u001b[39m*\u001b[39margs, \u001b[39m*\u001b[39m\u001b[39m*\u001b[39mkwds)\n",
      "File \u001b[1;32mc:\\Users\\Steve\\Documents\\Git-Repos\\xlum-python\\env\\lib\\site-packages\\matplotlib\\axes\\_axes.py:1632\u001b[0m, in \u001b[0;36mAxes.plot\u001b[1;34m(self, scalex, scaley, data, *args, **kwargs)\u001b[0m\n\u001b[0;32m   <a href='file:///c%3A/Users/Steve/Documents/Git-Repos/xlum-python/env/lib/site-packages/matplotlib/axes/_axes.py?line=1389'>1390</a>\u001b[0m \u001b[39m\"\"\"\u001b[39;00m\n\u001b[0;32m   <a href='file:///c%3A/Users/Steve/Documents/Git-Repos/xlum-python/env/lib/site-packages/matplotlib/axes/_axes.py?line=1390'>1391</a>\u001b[0m \u001b[39mPlot y versus x as lines and/or markers.\u001b[39;00m\n\u001b[0;32m   <a href='file:///c%3A/Users/Steve/Documents/Git-Repos/xlum-python/env/lib/site-packages/matplotlib/axes/_axes.py?line=1391'>1392</a>\u001b[0m \n\u001b[1;32m   (...)\u001b[0m\n\u001b[0;32m   <a href='file:///c%3A/Users/Steve/Documents/Git-Repos/xlum-python/env/lib/site-packages/matplotlib/axes/_axes.py?line=1628'>1629</a>\u001b[0m \u001b[39m(``'green'``) or hex strings (``'#008000'``).\u001b[39;00m\n\u001b[0;32m   <a href='file:///c%3A/Users/Steve/Documents/Git-Repos/xlum-python/env/lib/site-packages/matplotlib/axes/_axes.py?line=1629'>1630</a>\u001b[0m \u001b[39m\"\"\"\u001b[39;00m\n\u001b[0;32m   <a href='file:///c%3A/Users/Steve/Documents/Git-Repos/xlum-python/env/lib/site-packages/matplotlib/axes/_axes.py?line=1630'>1631</a>\u001b[0m kwargs \u001b[39m=\u001b[39m cbook\u001b[39m.\u001b[39mnormalize_kwargs(kwargs, mlines\u001b[39m.\u001b[39mLine2D)\n\u001b[1;32m-> <a href='file:///c%3A/Users/Steve/Documents/Git-Repos/xlum-python/env/lib/site-packages/matplotlib/axes/_axes.py?line=1631'>1632</a>\u001b[0m lines \u001b[39m=\u001b[39m [\u001b[39m*\u001b[39m\u001b[39mself\u001b[39m\u001b[39m.\u001b[39m_get_lines(\u001b[39m*\u001b[39margs, data\u001b[39m=\u001b[39mdata, \u001b[39m*\u001b[39m\u001b[39m*\u001b[39mkwargs)]\n\u001b[0;32m   <a href='file:///c%3A/Users/Steve/Documents/Git-Repos/xlum-python/env/lib/site-packages/matplotlib/axes/_axes.py?line=1632'>1633</a>\u001b[0m \u001b[39mfor\u001b[39;00m line \u001b[39min\u001b[39;00m lines:\n\u001b[0;32m   <a href='file:///c%3A/Users/Steve/Documents/Git-Repos/xlum-python/env/lib/site-packages/matplotlib/axes/_axes.py?line=1633'>1634</a>\u001b[0m     \u001b[39mself\u001b[39m\u001b[39m.\u001b[39madd_line(line)\n",
      "File \u001b[1;32mc:\\Users\\Steve\\Documents\\Git-Repos\\xlum-python\\env\\lib\\site-packages\\matplotlib\\axes\\_base.py:312\u001b[0m, in \u001b[0;36m_process_plot_var_args.__call__\u001b[1;34m(self, data, *args, **kwargs)\u001b[0m\n\u001b[0;32m    <a href='file:///c%3A/Users/Steve/Documents/Git-Repos/xlum-python/env/lib/site-packages/matplotlib/axes/_base.py?line=309'>310</a>\u001b[0m     this \u001b[39m+\u001b[39m\u001b[39m=\u001b[39m args[\u001b[39m0\u001b[39m],\n\u001b[0;32m    <a href='file:///c%3A/Users/Steve/Documents/Git-Repos/xlum-python/env/lib/site-packages/matplotlib/axes/_base.py?line=310'>311</a>\u001b[0m     args \u001b[39m=\u001b[39m args[\u001b[39m1\u001b[39m:]\n\u001b[1;32m--> <a href='file:///c%3A/Users/Steve/Documents/Git-Repos/xlum-python/env/lib/site-packages/matplotlib/axes/_base.py?line=311'>312</a>\u001b[0m \u001b[39myield from\u001b[39;00m \u001b[39mself\u001b[39;49m\u001b[39m.\u001b[39;49m_plot_args(this, kwargs)\n",
      "File \u001b[1;32mc:\\Users\\Steve\\Documents\\Git-Repos\\xlum-python\\env\\lib\\site-packages\\matplotlib\\axes\\_base.py:538\u001b[0m, in \u001b[0;36m_process_plot_var_args._plot_args\u001b[1;34m(self, tup, kwargs, return_kwargs)\u001b[0m\n\u001b[0;32m    <a href='file:///c%3A/Users/Steve/Documents/Git-Repos/xlum-python/env/lib/site-packages/matplotlib/axes/_base.py?line=535'>536</a>\u001b[0m     \u001b[39mreturn\u001b[39;00m \u001b[39mlist\u001b[39m(result)\n\u001b[0;32m    <a href='file:///c%3A/Users/Steve/Documents/Git-Repos/xlum-python/env/lib/site-packages/matplotlib/axes/_base.py?line=536'>537</a>\u001b[0m \u001b[39melse\u001b[39;00m:\n\u001b[1;32m--> <a href='file:///c%3A/Users/Steve/Documents/Git-Repos/xlum-python/env/lib/site-packages/matplotlib/axes/_base.py?line=537'>538</a>\u001b[0m     \u001b[39mreturn\u001b[39;00m [l[\u001b[39m0\u001b[39m] \u001b[39mfor\u001b[39;00m l \u001b[39min\u001b[39;00m result]\n",
      "File \u001b[1;32mc:\\Users\\Steve\\Documents\\Git-Repos\\xlum-python\\env\\lib\\site-packages\\matplotlib\\axes\\_base.py:538\u001b[0m, in \u001b[0;36m<listcomp>\u001b[1;34m(.0)\u001b[0m\n\u001b[0;32m    <a href='file:///c%3A/Users/Steve/Documents/Git-Repos/xlum-python/env/lib/site-packages/matplotlib/axes/_base.py?line=535'>536</a>\u001b[0m     \u001b[39mreturn\u001b[39;00m \u001b[39mlist\u001b[39m(result)\n\u001b[0;32m    <a href='file:///c%3A/Users/Steve/Documents/Git-Repos/xlum-python/env/lib/site-packages/matplotlib/axes/_base.py?line=536'>537</a>\u001b[0m \u001b[39melse\u001b[39;00m:\n\u001b[1;32m--> <a href='file:///c%3A/Users/Steve/Documents/Git-Repos/xlum-python/env/lib/site-packages/matplotlib/axes/_base.py?line=537'>538</a>\u001b[0m     \u001b[39mreturn\u001b[39;00m [l[\u001b[39m0\u001b[39m] \u001b[39mfor\u001b[39;00m l \u001b[39min\u001b[39;00m result]\n",
      "File \u001b[1;32mc:\\Users\\Steve\\Documents\\Git-Repos\\xlum-python\\env\\lib\\site-packages\\matplotlib\\axes\\_base.py:531\u001b[0m, in \u001b[0;36m<genexpr>\u001b[1;34m(.0)\u001b[0m\n\u001b[0;32m    <a href='file:///c%3A/Users/Steve/Documents/Git-Repos/xlum-python/env/lib/site-packages/matplotlib/axes/_base.py?line=527'>528</a>\u001b[0m \u001b[39melse\u001b[39;00m:\n\u001b[0;32m    <a href='file:///c%3A/Users/Steve/Documents/Git-Repos/xlum-python/env/lib/site-packages/matplotlib/axes/_base.py?line=528'>529</a>\u001b[0m     labels \u001b[39m=\u001b[39m [label] \u001b[39m*\u001b[39m n_datasets\n\u001b[1;32m--> <a href='file:///c%3A/Users/Steve/Documents/Git-Repos/xlum-python/env/lib/site-packages/matplotlib/axes/_base.py?line=530'>531</a>\u001b[0m result \u001b[39m=\u001b[39m (make_artist(x[:, j \u001b[39m%\u001b[39;49m ncx], y[:, j \u001b[39m%\u001b[39;49m ncy], kw,\n\u001b[0;32m    <a href='file:///c%3A/Users/Steve/Documents/Git-Repos/xlum-python/env/lib/site-packages/matplotlib/axes/_base.py?line=531'>532</a>\u001b[0m                       {\u001b[39m*\u001b[39;49m\u001b[39m*\u001b[39;49mkwargs, \u001b[39m'\u001b[39;49m\u001b[39mlabel\u001b[39;49m\u001b[39m'\u001b[39;49m: label})\n\u001b[0;32m    <a href='file:///c%3A/Users/Steve/Documents/Git-Repos/xlum-python/env/lib/site-packages/matplotlib/axes/_base.py?line=532'>533</a>\u001b[0m           \u001b[39mfor\u001b[39;00m j, label \u001b[39min\u001b[39;00m \u001b[39menumerate\u001b[39m(labels))\n\u001b[0;32m    <a href='file:///c%3A/Users/Steve/Documents/Git-Repos/xlum-python/env/lib/site-packages/matplotlib/axes/_base.py?line=534'>535</a>\u001b[0m \u001b[39mif\u001b[39;00m return_kwargs:\n\u001b[0;32m    <a href='file:///c%3A/Users/Steve/Documents/Git-Repos/xlum-python/env/lib/site-packages/matplotlib/axes/_base.py?line=535'>536</a>\u001b[0m     \u001b[39mreturn\u001b[39;00m \u001b[39mlist\u001b[39m(result)\n",
      "File \u001b[1;32mc:\\Users\\Steve\\Documents\\Git-Repos\\xlum-python\\env\\lib\\site-packages\\matplotlib\\axes\\_base.py:351\u001b[0m, in \u001b[0;36m_process_plot_var_args._makeline\u001b[1;34m(self, x, y, kw, kwargs)\u001b[0m\n\u001b[0;32m    <a href='file:///c%3A/Users/Steve/Documents/Git-Repos/xlum-python/env/lib/site-packages/matplotlib/axes/_base.py?line=348'>349</a>\u001b[0m default_dict \u001b[39m=\u001b[39m \u001b[39mself\u001b[39m\u001b[39m.\u001b[39m_getdefaults(\u001b[39mset\u001b[39m(), kw)\n\u001b[0;32m    <a href='file:///c%3A/Users/Steve/Documents/Git-Repos/xlum-python/env/lib/site-packages/matplotlib/axes/_base.py?line=349'>350</a>\u001b[0m \u001b[39mself\u001b[39m\u001b[39m.\u001b[39m_setdefaults(default_dict, kw)\n\u001b[1;32m--> <a href='file:///c%3A/Users/Steve/Documents/Git-Repos/xlum-python/env/lib/site-packages/matplotlib/axes/_base.py?line=350'>351</a>\u001b[0m seg \u001b[39m=\u001b[39m mlines\u001b[39m.\u001b[39mLine2D(x, y, \u001b[39m*\u001b[39m\u001b[39m*\u001b[39mkw)\n\u001b[0;32m    <a href='file:///c%3A/Users/Steve/Documents/Git-Repos/xlum-python/env/lib/site-packages/matplotlib/axes/_base.py?line=351'>352</a>\u001b[0m \u001b[39mreturn\u001b[39;00m seg, kw\n",
      "File \u001b[1;32mc:\\Users\\Steve\\Documents\\Git-Repos\\xlum-python\\env\\lib\\site-packages\\matplotlib\\lines.py:393\u001b[0m, in \u001b[0;36mLine2D.__init__\u001b[1;34m(self, xdata, ydata, linewidth, linestyle, color, marker, markersize, markeredgewidth, markeredgecolor, markerfacecolor, markerfacecoloralt, fillstyle, antialiased, dash_capstyle, solid_capstyle, dash_joinstyle, solid_joinstyle, pickradius, drawstyle, markevery, **kwargs)\u001b[0m\n\u001b[0;32m    <a href='file:///c%3A/Users/Steve/Documents/Git-Repos/xlum-python/env/lib/site-packages/matplotlib/lines.py?line=388'>389</a>\u001b[0m \u001b[39mself\u001b[39m\u001b[39m.\u001b[39mset_markeredgewidth(markeredgewidth)\n\u001b[0;32m    <a href='file:///c%3A/Users/Steve/Documents/Git-Repos/xlum-python/env/lib/site-packages/matplotlib/lines.py?line=390'>391</a>\u001b[0m \u001b[39m# update kwargs before updating data to give the caller a\u001b[39;00m\n\u001b[0;32m    <a href='file:///c%3A/Users/Steve/Documents/Git-Repos/xlum-python/env/lib/site-packages/matplotlib/lines.py?line=391'>392</a>\u001b[0m \u001b[39m# chance to init axes (and hence unit support)\u001b[39;00m\n\u001b[1;32m--> <a href='file:///c%3A/Users/Steve/Documents/Git-Repos/xlum-python/env/lib/site-packages/matplotlib/lines.py?line=392'>393</a>\u001b[0m \u001b[39mself\u001b[39;49m\u001b[39m.\u001b[39;49mupdate(kwargs)\n\u001b[0;32m    <a href='file:///c%3A/Users/Steve/Documents/Git-Repos/xlum-python/env/lib/site-packages/matplotlib/lines.py?line=393'>394</a>\u001b[0m \u001b[39mself\u001b[39m\u001b[39m.\u001b[39mpickradius \u001b[39m=\u001b[39m pickradius\n\u001b[0;32m    <a href='file:///c%3A/Users/Steve/Documents/Git-Repos/xlum-python/env/lib/site-packages/matplotlib/lines.py?line=394'>395</a>\u001b[0m \u001b[39mself\u001b[39m\u001b[39m.\u001b[39mind_offset \u001b[39m=\u001b[39m \u001b[39m0\u001b[39m\n",
      "File \u001b[1;32mc:\\Users\\Steve\\Documents\\Git-Repos\\xlum-python\\env\\lib\\site-packages\\matplotlib\\artist.py:1064\u001b[0m, in \u001b[0;36mArtist.update\u001b[1;34m(self, props)\u001b[0m\n\u001b[0;32m   <a href='file:///c%3A/Users/Steve/Documents/Git-Repos/xlum-python/env/lib/site-packages/matplotlib/artist.py?line=1061'>1062</a>\u001b[0m             func \u001b[39m=\u001b[39m \u001b[39mgetattr\u001b[39m(\u001b[39mself\u001b[39m, \u001b[39mf\u001b[39m\u001b[39m\"\u001b[39m\u001b[39mset_\u001b[39m\u001b[39m{\u001b[39;00mk\u001b[39m}\u001b[39;00m\u001b[39m\"\u001b[39m, \u001b[39mNone\u001b[39;00m)\n\u001b[0;32m   <a href='file:///c%3A/Users/Steve/Documents/Git-Repos/xlum-python/env/lib/site-packages/matplotlib/artist.py?line=1062'>1063</a>\u001b[0m             \u001b[39mif\u001b[39;00m \u001b[39mnot\u001b[39;00m callable(func):\n\u001b[1;32m-> <a href='file:///c%3A/Users/Steve/Documents/Git-Repos/xlum-python/env/lib/site-packages/matplotlib/artist.py?line=1063'>1064</a>\u001b[0m                 \u001b[39mraise\u001b[39;00m \u001b[39mAttributeError\u001b[39;00m(\u001b[39mf\u001b[39m\u001b[39m\"\u001b[39m\u001b[39m{\u001b[39;00m\u001b[39mtype\u001b[39m(\u001b[39mself\u001b[39m)\u001b[39m.\u001b[39m\u001b[39m__name__\u001b[39m\u001b[39m!r}\u001b[39;00m\u001b[39m object \u001b[39m\u001b[39m\"\u001b[39m\n\u001b[0;32m   <a href='file:///c%3A/Users/Steve/Documents/Git-Repos/xlum-python/env/lib/site-packages/matplotlib/artist.py?line=1064'>1065</a>\u001b[0m                                      \u001b[39mf\u001b[39m\u001b[39m\"\u001b[39m\u001b[39mhas no property \u001b[39m\u001b[39m{\u001b[39;00mk\u001b[39m!r}\u001b[39;00m\u001b[39m\"\u001b[39m)\n\u001b[0;32m   <a href='file:///c%3A/Users/Steve/Documents/Git-Repos/xlum-python/env/lib/site-packages/matplotlib/artist.py?line=1065'>1066</a>\u001b[0m             ret\u001b[39m.\u001b[39mappend(func(v))\n\u001b[0;32m   <a href='file:///c%3A/Users/Steve/Documents/Git-Repos/xlum-python/env/lib/site-packages/matplotlib/artist.py?line=1066'>1067</a>\u001b[0m \u001b[39mif\u001b[39;00m ret:\n",
      "\u001b[1;31mAttributeError\u001b[0m: 'Line2D' object has no property 'axis'"
     ]
    },
    {
     "data": {
      "image/png": "[encoded data removed]",
      "text/plain": [
       "<Figure size 432x288 with 1 Axes>"
      ]
     },
     "metadata": {
      "needs_background": "light"
     },
     "output_type": "display_data"
    }
   ],
   "source": [
    "df_curve = obj.lstSamples[0].lstSequences[0].lstRecords[0].lstCurves[0].df\n",
    "df_curve.plot(axis=1)"
   ]
  },
  {
   "cell_type": "code",
   "execution_count": null,
   "metadata": {},
   "outputs": [],
   "source": [
    "pd.DataFrame.plot(df_curve, x=\"curve\")"
   ]
  },
  {
   "cell_type": "code",
   "execution_count": null,
   "metadata": {},
   "outputs": [],
   "source": [
    "\"plot\" in dir(df_curve)"
   ]
  },
  {
   "cell_type": "code",
   "execution_count": null,
   "metadata": {},
   "outputs": [],
   "source": [
    "df_curve.plot()"
   ]
  },
  {
   "cell_type": "code",
   "execution_count": null,
   "metadata": {},
   "outputs": [],
   "source": []
  }
 ],
 "metadata": {
  "interpreter": {
   "hash": "12b7edbcaddfb559812d71538bae8f8926e811690d79d4c0f126aa3bfe5a9439"
  },
  "kernelspec": {
   "display_name": "Python 3.10.4 (conda)",
   "language": "python",
   "name": "python3"
  },
  "language_info": {
   "codemirror_mode": {
    "name": "ipython",
    "version": 3
   },
   "file_extension": ".py",
   "mimetype": "text/x-python",
   "name": "python",
   "nbconvert_exporter": "python",
   "pygments_lexer": "ipython3",
   "version": "3.10.4"
  },
  "orig_nbformat": 4
 },
 "nbformat": 4,
 "nbformat_minor": 2
}
