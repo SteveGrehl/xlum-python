{
 "cells": [
  {
   "cell_type": "markdown",
   "metadata": {},
   "source": [
    "# Example Usage of Xlum-python"
   ]
  },
  {
   "cell_type": "code",
   "execution_count": 1,
   "metadata": {},
   "outputs": [
    {
     "name": "stdout",
     "output_type": "stream",
     "text": [
      "c:\\Users\\Steve\\Documents\\Git-Repos\\xlum-python\\notebooks\n"
     ]
    }
   ],
   "source": [
    "import os\n",
    "print(os.getcwd())"
   ]
  },
  {
   "cell_type": "code",
   "execution_count": 2,
   "metadata": {},
   "outputs": [
    {
     "name": "stdout",
     "output_type": "stream",
     "text": [
      "c:\\Users\\Steve\\Documents\\Git-Repos\\xlum-python\\notebooks\n",
      "['c:\\\\Users\\\\Steve\\\\Documents\\\\Git-Repos\\\\xlum-python\\\\notebooks', 'c:\\\\Users\\\\Steve\\\\Documents\\\\Git-Repos\\\\xlum-python\\\\env\\\\python310.zip', 'c:\\\\Users\\\\Steve\\\\Documents\\\\Git-Repos\\\\xlum-python\\\\env\\\\DLLs', 'c:\\\\Users\\\\Steve\\\\Documents\\\\Git-Repos\\\\xlum-python\\\\env\\\\lib', 'c:\\\\Users\\\\Steve\\\\Documents\\\\Git-Repos\\\\xlum-python\\\\env', '', 'c:\\\\Users\\\\Steve\\\\Documents\\\\Git-Repos\\\\xlum-python\\\\env\\\\lib\\\\site-packages', 'c:\\\\Users\\\\Steve\\\\Documents\\\\Git-Repos\\\\xlum-python\\\\env\\\\lib\\\\site-packages\\\\win32', 'c:\\\\Users\\\\Steve\\\\Documents\\\\Git-Repos\\\\xlum-python\\\\env\\\\lib\\\\site-packages\\\\win32\\\\lib', 'c:\\\\Users\\\\Steve\\\\Documents\\\\Git-Repos\\\\xlum-python\\\\env\\\\lib\\\\site-packages\\\\Pythonwin', 'c:\\\\Users\\\\Steve\\\\Documents\\\\Git-Repos\\\\xlum-python\\\\notebooks\\\\..\\\\xlum']\n"
     ]
    }
   ],
   "source": [
    "import sys\n",
    "import os\n",
    "import pandas as pd\n",
    "from dataclasses import asdict\n",
    "\n",
    "print(os.getcwd())\n",
    "\n",
    "DIRNAME = os.getcwd()\n",
    "sys.path.append(\n",
    "    os.path.join(\n",
    "        DIRNAME,\n",
    "        '..',\n",
    "        'xlum'\n",
    "        )\n",
    ")\n",
    "print(sys.path)\n",
    "from data.classes import XlumMeta, Sample, Record, Sequence, Curve\n",
    "import importer"
   ]
  },
  {
   "cell_type": "code",
   "execution_count": 3,
   "metadata": {},
   "outputs": [
    {
     "data": {
      "text/plain": [
       "False"
      ]
     },
     "execution_count": 3,
     "metadata": {},
     "output_type": "execute_result"
    }
   ],
   "source": [
    "import os\n",
    "\n",
    "os.path.exists(\"/Users/sgrehl/Downloads/BDX16646_OSL_SAR.xlum\")"
   ]
  },
  {
   "cell_type": "code",
   "execution_count": 3,
   "metadata": {},
   "outputs": [
    {
     "name": "stdout",
     "output_type": "stream",
     "text": [
      "sample\n",
      "thermocouple\n",
      "PMT\n",
      "PMT\n"
     ]
    }
   ],
   "source": [
    "obj: XlumMeta = importer.from_xlum(\n",
    "    os.path.join(\n",
    "        DIRNAME,\n",
    "        \"..\",\n",
    "        \"assets\",\n",
    "        \"xlum_example.xlum\"\n",
    "    )\n",
    ")"
   ]
  },
  {
   "cell_type": "code",
   "execution_count": 4,
   "metadata": {},
   "outputs": [
    {
     "data": {
      "text/html": [
       "<div>\n",
       "<style scoped>\n",
       "    .dataframe tbody tr th:only-of-type {\n",
       "        vertical-align: middle;\n",
       "    }\n",
       "\n",
       "    .dataframe tbody tr th {\n",
       "        vertical-align: top;\n",
       "    }\n",
       "\n",
       "    .dataframe thead th {\n",
       "        text-align: right;\n",
       "    }\n",
       "</style>\n",
       "<table border=\"1\" class=\"dataframe\">\n",
       "  <thead>\n",
       "    <tr style=\"text-align: right;\">\n",
       "      <th></th>\n",
       "      <th>XlumMeta.formatVersion</th>\n",
       "      <th>XlumMeta.author</th>\n",
       "      <th>XlumMeta.lang</th>\n",
       "      <th>XlumMeta.license</th>\n",
       "      <th>Samples.name</th>\n",
       "      <th>Samples.mineral</th>\n",
       "      <th>Samples.latitude</th>\n",
       "      <th>Samples.longitude</th>\n",
       "      <th>Samples.altitude</th>\n",
       "      <th>Samples.doi</th>\n",
       "      <th>Samples.comment</th>\n",
       "      <th>Samples.state</th>\n",
       "      <th>Samples.parentID</th>\n",
       "    </tr>\n",
       "  </thead>\n",
       "  <tbody>\n",
       "    <tr>\n",
       "      <th>0</th>\n",
       "      <td>1.0</td>\n",
       "      <td>Marie Skłodowska-Curie; Max Karl Ernst Ludwig ...</td>\n",
       "      <td>en</td>\n",
       "      <td>CC BY 4.0</td>\n",
       "      <td>LUM-21321</td>\n",
       "      <td>quartz</td>\n",
       "      <td>52.409139</td>\n",
       "      <td>-4.070245</td>\n",
       "      <td>50.0</td>\n",
       "      <td>valid DOI</td>\n",
       "      <td>NA</td>\n",
       "      <td>State.UNKNOWN</td>\n",
       "      <td>NA</td>\n",
       "    </tr>\n",
       "  </tbody>\n",
       "</table>\n",
       "</div>"
      ],
      "text/plain": [
       "  XlumMeta.formatVersion                                    XlumMeta.author  \\\n",
       "0                    1.0  Marie Skłodowska-Curie; Max Karl Ernst Ludwig ...   \n",
       "\n",
       "  XlumMeta.lang XlumMeta.license Samples.name Samples.mineral  \\\n",
       "0            en        CC BY 4.0    LUM-21321          quartz   \n",
       "\n",
       "   Samples.latitude  Samples.longitude  Samples.altitude Samples.doi  \\\n",
       "0         52.409139          -4.070245              50.0   valid DOI   \n",
       "\n",
       "  Samples.comment  Samples.state Samples.parentID  \n",
       "0              NA  State.UNKNOWN               NA  "
      ]
     },
     "execution_count": 4,
     "metadata": {},
     "output_type": "execute_result"
    }
   ],
   "source": [
    "obj.df"
   ]
  },
  {
   "cell_type": "code",
   "execution_count": 5,
   "metadata": {},
   "outputs": [
    {
     "data": {
      "text/html": [
       "<div>\n",
       "<style scoped>\n",
       "    .dataframe tbody tr th:only-of-type {\n",
       "        vertical-align: middle;\n",
       "    }\n",
       "\n",
       "    .dataframe tbody tr th {\n",
       "        vertical-align: top;\n",
       "    }\n",
       "\n",
       "    .dataframe thead th {\n",
       "        text-align: right;\n",
       "    }\n",
       "</style>\n",
       "<table border=\"1\" class=\"dataframe\">\n",
       "  <thead>\n",
       "    <tr style=\"text-align: right;\">\n",
       "      <th></th>\n",
       "      <th>Sample.name</th>\n",
       "      <th>Sample.mineral</th>\n",
       "      <th>Sample.latitude</th>\n",
       "      <th>Sample.longitude</th>\n",
       "      <th>Sample.altitude</th>\n",
       "      <th>Sample.doi</th>\n",
       "      <th>Sample.comment</th>\n",
       "      <th>Sample.state</th>\n",
       "      <th>Sample.parentID</th>\n",
       "      <th>Sequences.fileName</th>\n",
       "      <th>Sequences.software</th>\n",
       "      <th>Sequences.readerName</th>\n",
       "      <th>Sequences.readerSN</th>\n",
       "      <th>Sequences.readerFW</th>\n",
       "      <th>Sequences.comment</th>\n",
       "      <th>Sequences.state</th>\n",
       "      <th>Sequences.parentID</th>\n",
       "    </tr>\n",
       "  </thead>\n",
       "  <tbody>\n",
       "    <tr>\n",
       "      <th>0</th>\n",
       "      <td>LUM-21321</td>\n",
       "      <td>quartz</td>\n",
       "      <td>52.409139</td>\n",
       "      <td>-4.070245</td>\n",
       "      <td>50.0</td>\n",
       "      <td>valid DOI</td>\n",
       "      <td>NA</td>\n",
       "      <td>State.UNKNOWN</td>\n",
       "      <td>NA</td>\n",
       "      <td>Testsequence.seq</td>\n",
       "      <td>DeviceEditor 2.0</td>\n",
       "      <td>NA</td>\n",
       "      <td>NA</td>\n",
       "      <td>NA</td>\n",
       "      <td>NA</td>\n",
       "      <td>State.UNKNOWN</td>\n",
       "      <td>NA</td>\n",
       "    </tr>\n",
       "  </tbody>\n",
       "</table>\n",
       "</div>"
      ],
      "text/plain": [
       "  Sample.name Sample.mineral  Sample.latitude  Sample.longitude  \\\n",
       "0   LUM-21321         quartz        52.409139         -4.070245   \n",
       "\n",
       "   Sample.altitude Sample.doi Sample.comment   Sample.state Sample.parentID  \\\n",
       "0             50.0  valid DOI             NA  State.UNKNOWN              NA   \n",
       "\n",
       "  Sequences.fileName Sequences.software Sequences.readerName  \\\n",
       "0   Testsequence.seq   DeviceEditor 2.0                   NA   \n",
       "\n",
       "  Sequences.readerSN Sequences.readerFW Sequences.comment Sequences.state  \\\n",
       "0                 NA                 NA                NA   State.UNKNOWN   \n",
       "\n",
       "  Sequences.parentID  \n",
       "0                 NA  "
      ]
     },
     "execution_count": 5,
     "metadata": {},
     "output_type": "execute_result"
    }
   ],
   "source": [
    "obj.lstSamples[0].df"
   ]
  },
  {
   "cell_type": "code",
   "execution_count": 6,
   "metadata": {},
   "outputs": [
    {
     "data": {
      "text/html": [
       "<div>\n",
       "<style scoped>\n",
       "    .dataframe tbody tr th:only-of-type {\n",
       "        vertical-align: middle;\n",
       "    }\n",
       "\n",
       "    .dataframe tbody tr th {\n",
       "        vertical-align: top;\n",
       "    }\n",
       "\n",
       "    .dataframe thead th {\n",
       "        text-align: right;\n",
       "    }\n",
       "</style>\n",
       "<table border=\"1\" class=\"dataframe\">\n",
       "  <thead>\n",
       "    <tr style=\"text-align: right;\">\n",
       "      <th></th>\n",
       "      <th>Sequence.fileName</th>\n",
       "      <th>Sequence.software</th>\n",
       "      <th>Sequence.readerName</th>\n",
       "      <th>Sequence.readerSN</th>\n",
       "      <th>Sequence.readerFW</th>\n",
       "      <th>Sequence.comment</th>\n",
       "      <th>Sequence.state</th>\n",
       "      <th>Sequence.parentID</th>\n",
       "      <th>Records.recordType</th>\n",
       "      <th>Records.sequenceStepNumber</th>\n",
       "      <th>Records.sampleCondition</th>\n",
       "      <th>Records.comment</th>\n",
       "      <th>Records.state</th>\n",
       "      <th>Records.parentID</th>\n",
       "    </tr>\n",
       "  </thead>\n",
       "  <tbody>\n",
       "    <tr>\n",
       "      <th>0</th>\n",
       "      <td>Testsequence.seq</td>\n",
       "      <td>DeviceEditor 2.0</td>\n",
       "      <td>NA</td>\n",
       "      <td>NA</td>\n",
       "      <td>NA</td>\n",
       "      <td>NA</td>\n",
       "      <td>State.UNKNOWN</td>\n",
       "      <td>NA</td>\n",
       "      <td>RecordType.TL</td>\n",
       "      <td>1</td>\n",
       "      <td>SampleCondition.NA</td>\n",
       "      <td>NA</td>\n",
       "      <td>State.UNKNOWN</td>\n",
       "      <td>NA</td>\n",
       "    </tr>\n",
       "    <tr>\n",
       "      <th>1</th>\n",
       "      <td>NaN</td>\n",
       "      <td>NaN</td>\n",
       "      <td>NaN</td>\n",
       "      <td>NaN</td>\n",
       "      <td>NaN</td>\n",
       "      <td>NaN</td>\n",
       "      <td>NaN</td>\n",
       "      <td>NaN</td>\n",
       "      <td>RecordType.GSL</td>\n",
       "      <td>2</td>\n",
       "      <td>SampleCondition.NA</td>\n",
       "      <td>standard green OSL step</td>\n",
       "      <td>State.NA</td>\n",
       "      <td>standard green OSL step</td>\n",
       "    </tr>\n",
       "  </tbody>\n",
       "</table>\n",
       "</div>"
      ],
      "text/plain": [
       "  Sequence.fileName Sequence.software Sequence.readerName Sequence.readerSN  \\\n",
       "0  Testsequence.seq  DeviceEditor 2.0                  NA                NA   \n",
       "1               NaN               NaN                 NaN               NaN   \n",
       "\n",
       "  Sequence.readerFW Sequence.comment Sequence.state Sequence.parentID  \\\n",
       "0                NA               NA  State.UNKNOWN                NA   \n",
       "1               NaN              NaN            NaN               NaN   \n",
       "\n",
       "  Records.recordType  Records.sequenceStepNumber Records.sampleCondition  \\\n",
       "0      RecordType.TL                           1      SampleCondition.NA   \n",
       "1     RecordType.GSL                           2      SampleCondition.NA   \n",
       "\n",
       "           Records.comment  Records.state         Records.parentID  \n",
       "0                       NA  State.UNKNOWN                       NA  \n",
       "1  standard green OSL step       State.NA  standard green OSL step  "
      ]
     },
     "execution_count": 6,
     "metadata": {},
     "output_type": "execute_result"
    }
   ],
   "source": [
    "obj.lstSamples[0].lstSequences[0].df"
   ]
  },
  {
   "cell_type": "code",
   "execution_count": 7,
   "metadata": {},
   "outputs": [
    {
     "data": {
      "text/html": [
       "<div>\n",
       "<style scoped>\n",
       "    .dataframe tbody tr th:only-of-type {\n",
       "        vertical-align: middle;\n",
       "    }\n",
       "\n",
       "    .dataframe tbody tr th {\n",
       "        vertical-align: top;\n",
       "    }\n",
       "\n",
       "    .dataframe thead th {\n",
       "        text-align: right;\n",
       "    }\n",
       "</style>\n",
       "<table border=\"1\" class=\"dataframe\">\n",
       "  <thead>\n",
       "    <tr style=\"text-align: right;\">\n",
       "      <th></th>\n",
       "      <th>Record.recordType</th>\n",
       "      <th>Record.sequenceStepNumber</th>\n",
       "      <th>Record.sampleCondition</th>\n",
       "      <th>Record.comment</th>\n",
       "      <th>Record.state</th>\n",
       "      <th>Record.parentID</th>\n",
       "      <th>Curves.component</th>\n",
       "      <th>Curves.startDate</th>\n",
       "      <th>Curves.curveType</th>\n",
       "      <th>Curves.duration</th>\n",
       "      <th>...</th>\n",
       "      <th>Curves.vLabel</th>\n",
       "      <th>Curves.xUnit</th>\n",
       "      <th>Curves.yUnit</th>\n",
       "      <th>Curves.tUnit</th>\n",
       "      <th>Curves.vUnit</th>\n",
       "      <th>Curves.detectionWindow</th>\n",
       "      <th>Curves.filter</th>\n",
       "      <th>Curves.comment</th>\n",
       "      <th>Curves.state</th>\n",
       "      <th>Curves.parentID</th>\n",
       "    </tr>\n",
       "  </thead>\n",
       "  <tbody>\n",
       "    <tr>\n",
       "      <th>0</th>\n",
       "      <td>RecordType.TL</td>\n",
       "      <td>1.0</td>\n",
       "      <td>SampleCondition.NA</td>\n",
       "      <td>NA</td>\n",
       "      <td>State.UNKNOWN</td>\n",
       "      <td>NA</td>\n",
       "      <td>thermocouple</td>\n",
       "      <td>2021-02-14 22:57:12</td>\n",
       "      <td>CurveType.MEASURED</td>\n",
       "      <td>0.0</td>\n",
       "      <td>...</td>\n",
       "      <td>temperature</td>\n",
       "      <td></td>\n",
       "      <td></td>\n",
       "      <td>s</td>\n",
       "      <td>K</td>\n",
       "      <td>NA</td>\n",
       "      <td>NA</td>\n",
       "      <td>NA</td>\n",
       "      <td>State.UNKNOWN</td>\n",
       "      <td>NA</td>\n",
       "    </tr>\n",
       "    <tr>\n",
       "      <th>1</th>\n",
       "      <td>NaN</td>\n",
       "      <td>NaN</td>\n",
       "      <td>NaN</td>\n",
       "      <td>NaN</td>\n",
       "      <td>NaN</td>\n",
       "      <td>NaN</td>\n",
       "      <td>PMT</td>\n",
       "      <td>2021-02-14 22:57:12</td>\n",
       "      <td>CurveType.MEASURED</td>\n",
       "      <td>0.0</td>\n",
       "      <td>...</td>\n",
       "      <td>luminescence</td>\n",
       "      <td></td>\n",
       "      <td></td>\n",
       "      <td>s</td>\n",
       "      <td>cts</td>\n",
       "      <td>375</td>\n",
       "      <td>Hoya U340; Delta BP 365/50EX</td>\n",
       "      <td>NA</td>\n",
       "      <td>State.UNKNOWN</td>\n",
       "      <td>NA</td>\n",
       "    </tr>\n",
       "  </tbody>\n",
       "</table>\n",
       "<p>2 rows × 27 columns</p>\n",
       "</div>"
      ],
      "text/plain": [
       "  Record.recordType  Record.sequenceStepNumber Record.sampleCondition  \\\n",
       "0     RecordType.TL                        1.0     SampleCondition.NA   \n",
       "1               NaN                        NaN                    NaN   \n",
       "\n",
       "  Record.comment   Record.state Record.parentID Curves.component  \\\n",
       "0             NA  State.UNKNOWN              NA     thermocouple   \n",
       "1            NaN            NaN             NaN              PMT   \n",
       "\n",
       "     Curves.startDate    Curves.curveType  Curves.duration  ...  \\\n",
       "0 2021-02-14 22:57:12  CurveType.MEASURED              0.0  ...   \n",
       "1 2021-02-14 22:57:12  CurveType.MEASURED              0.0  ...   \n",
       "\n",
       "   Curves.vLabel Curves.xUnit Curves.yUnit Curves.tUnit Curves.vUnit  \\\n",
       "0    temperature                                      s            K   \n",
       "1   luminescence                                      s          cts   \n",
       "\n",
       "  Curves.detectionWindow                 Curves.filter Curves.comment  \\\n",
       "0                     NA                            NA             NA   \n",
       "1                    375  Hoya U340; Delta BP 365/50EX             NA   \n",
       "\n",
       "    Curves.state Curves.parentID  \n",
       "0  State.UNKNOWN              NA  \n",
       "1  State.UNKNOWN              NA  \n",
       "\n",
       "[2 rows x 27 columns]"
      ]
     },
     "execution_count": 7,
     "metadata": {},
     "output_type": "execute_result"
    }
   ],
   "source": [
    "obj.lstSamples[0].lstSequences[0].lstRecords[0].df"
   ]
  },
  {
   "cell_type": "code",
   "execution_count": 8,
   "metadata": {},
   "outputs": [
    {
     "data": {
      "text/html": [
       "<div>\n",
       "<style scoped>\n",
       "    .dataframe tbody tr th:only-of-type {\n",
       "        vertical-align: middle;\n",
       "    }\n",
       "\n",
       "    .dataframe tbody tr th {\n",
       "        vertical-align: top;\n",
       "    }\n",
       "\n",
       "    .dataframe thead th {\n",
       "        text-align: right;\n",
       "    }\n",
       "</style>\n",
       "<table border=\"1\" class=\"dataframe\">\n",
       "  <thead>\n",
       "    <tr style=\"text-align: right;\">\n",
       "      <th></th>\n",
       "      <th>curve</th>\n",
       "      <th>component</th>\n",
       "      <th>startDate</th>\n",
       "      <th>curveType</th>\n",
       "      <th>duration</th>\n",
       "      <th>offset</th>\n",
       "      <th>xValues</th>\n",
       "      <th>yValues</th>\n",
       "      <th>tValues</th>\n",
       "      <th>xLabel</th>\n",
       "      <th>...</th>\n",
       "      <th>vLabel</th>\n",
       "      <th>xUnit</th>\n",
       "      <th>yUnit</th>\n",
       "      <th>tUnit</th>\n",
       "      <th>vUnit</th>\n",
       "      <th>detectionWindow</th>\n",
       "      <th>filter</th>\n",
       "      <th>Curve.comment</th>\n",
       "      <th>Curve.state</th>\n",
       "      <th>Curve.parentID</th>\n",
       "    </tr>\n",
       "  </thead>\n",
       "  <tbody>\n",
       "    <tr>\n",
       "      <th>0</th>\n",
       "      <td>[293.0, 303.0, 313.0, 323.0, 333.0, 343.0, 353...</td>\n",
       "      <td>thermocouple</td>\n",
       "      <td>2021-02-14 22:57:12</td>\n",
       "      <td>CurveType.MEASURED</td>\n",
       "      <td>0.0</td>\n",
       "      <td>0.0</td>\n",
       "      <td>[]</td>\n",
       "      <td>[]</td>\n",
       "      <td>[]</td>\n",
       "      <td>NA</td>\n",
       "      <td>...</td>\n",
       "      <td>temperature</td>\n",
       "      <td></td>\n",
       "      <td></td>\n",
       "      <td>s</td>\n",
       "      <td>K</td>\n",
       "      <td>NA</td>\n",
       "      <td>NA</td>\n",
       "      <td>NA</td>\n",
       "      <td>State.UNKNOWN</td>\n",
       "      <td>NA</td>\n",
       "    </tr>\n",
       "  </tbody>\n",
       "</table>\n",
       "<p>1 rows × 22 columns</p>\n",
       "</div>"
      ],
      "text/plain": [
       "                                               curve     component  \\\n",
       "0  [293.0, 303.0, 313.0, 323.0, 333.0, 343.0, 353...  thermocouple   \n",
       "\n",
       "            startDate           curveType  duration  offset xValues yValues  \\\n",
       "0 2021-02-14 22:57:12  CurveType.MEASURED       0.0     0.0      []      []   \n",
       "\n",
       "  tValues xLabel  ...       vLabel xUnit yUnit tUnit vUnit detectionWindow  \\\n",
       "0      []     NA  ...  temperature                 s     K              NA   \n",
       "\n",
       "  filter Curve.comment    Curve.state Curve.parentID  \n",
       "0     NA            NA  State.UNKNOWN             NA  \n",
       "\n",
       "[1 rows x 22 columns]"
      ]
     },
     "execution_count": 8,
     "metadata": {},
     "output_type": "execute_result"
    }
   ],
   "source": [
    "obj.lstSamples[0].lstSequences[0].lstRecords[0].lstCurves[0].df"
   ]
  },
  {
   "cell_type": "code",
   "execution_count": 9,
   "metadata": {},
   "outputs": [
    {
     "data": {
      "text/plain": [
       "[293.0, 303.0, 313.0, 323.0, 333.0, 343.0, 353.0, 363.0, 373.0, 383.0]"
      ]
     },
     "execution_count": 9,
     "metadata": {},
     "output_type": "execute_result"
    }
   ],
   "source": [
    "obj.lstSamples[0].lstSequences[0].lstRecords[0].lstCurves[0].lstValues"
   ]
  },
  {
   "cell_type": "code",
   "execution_count": 10,
   "metadata": {},
   "outputs": [
    {
     "name": "stdout",
     "output_type": "stream",
     "text": [
      "float 293.0\n"
     ]
    }
   ],
   "source": [
    "curve = obj.lstSamples[0].lstSequences[0].lstRecords[0].lstCurves[0].lstValues\n",
    "print(curve[0].__class__.__name__, curve[0])"
   ]
  },
  {
   "cell_type": "markdown",
   "metadata": {},
   "source": [
    "## Showcase Pandas functions\n",
    "\n",
    "### Requirements\n",
    "- MatPlotLib: `conda install matplotlib`"
   ]
  },
  {
   "cell_type": "code",
   "execution_count": 76,
   "metadata": {},
   "outputs": [
    {
     "ename": "AttributeError",
     "evalue": "'Sample' object has no attribute 'lstSequence'",
     "output_type": "error",
     "traceback": [
      "\u001b[1;31m---------------------------------------------------------------------------\u001b[0m",
      "\u001b[1;31mAttributeError\u001b[0m                            Traceback (most recent call last)",
      "\u001b[1;32mc:\\Users\\Steve\\Documents\\Git-Repos\\xlum-python\\notebooks\\example.ipynb Cell 14'\u001b[0m in \u001b[0;36m<cell line: 2>\u001b[1;34m()\u001b[0m\n\u001b[0;32m      <a href='vscode-notebook-cell:/c%3A/Users/Steve/Documents/Git-Repos/xlum-python/notebooks/example.ipynb#ch0000013?line=1'>2</a>\u001b[0m \u001b[39mfor\u001b[39;00m sample \u001b[39min\u001b[39;00m obj\u001b[39m.\u001b[39mlstSamples:\n\u001b[0;32m      <a href='vscode-notebook-cell:/c%3A/Users/Steve/Documents/Git-Repos/xlum-python/notebooks/example.ipynb#ch0000013?line=2'>3</a>\u001b[0m     sample: Sample\n\u001b[1;32m----> <a href='vscode-notebook-cell:/c%3A/Users/Steve/Documents/Git-Repos/xlum-python/notebooks/example.ipynb#ch0000013?line=3'>4</a>\u001b[0m     \u001b[39mfor\u001b[39;00m idx_s, sequence \u001b[39min\u001b[39;00m \u001b[39menumerate\u001b[39m(sample\u001b[39m.\u001b[39;49mlstSequence):\n\u001b[0;32m      <a href='vscode-notebook-cell:/c%3A/Users/Steve/Documents/Git-Repos/xlum-python/notebooks/example.ipynb#ch0000013?line=4'>5</a>\u001b[0m         \u001b[39mfor\u001b[39;00m idx_r, record \u001b[39min\u001b[39;00m \u001b[39menumerate\u001b[39m(sequence\u001b[39m.\u001b[39mlstRecords):\n\u001b[0;32m      <a href='vscode-notebook-cell:/c%3A/Users/Steve/Documents/Git-Repos/xlum-python/notebooks/example.ipynb#ch0000013?line=5'>6</a>\u001b[0m             plt\u001b[39m.\u001b[39mfigure(idx_s\u001b[39m*\u001b[39m\u001b[39m100\u001b[39m\u001b[39m+\u001b[39midx_r)\n",
      "\u001b[1;31mAttributeError\u001b[0m: 'Sample' object has no attribute 'lstSequence'"
     ]
    }
   ],
   "source": [
    "from matplotlib import pyplot as plt\n",
    "for sample in obj.lstSamples:\n",
    "    sample: Sample\n",
    "    for idx_s, sequence in enumerate(sample.lstSequences):\n",
    "        for idx_r, record in enumerate(sequence.lstRecords):\n",
    "            plt.figure(idx_s*100+idx_r)\n",
    "            for curve in record.lstCurves:\n",
    "                plt.plot(curve.lstValues, \"o-\", label=f\"{curve.component} - {curve.vLabel} in [{curve.vUnit}] '{curve.curveType.name}'\")\n",
    "                plt.xlabel(f\"{curve.tLabel} in [{curve.tUnit}]\")\n",
    "                if curve.yLabel != \"NA\":\n",
    "                    plt.ylabel(f\"{curve.yLabel} in [{curve.yUnit}]\")\n",
    "            plt.title(\n",
    "                f\"\"\"\n",
    "                {obj.author}\n",
    "                {sample.name}: {sample.mineral} from ({sample.longitude:.2f}, {sample.latitude:.2f}, {sample.altitude:.2f})\n",
    "                {sequence.fileName} by {sequence.software}\n",
    "                {record.recordType.name} - {record._meta.comment}\n",
    "                \"\"\"\n",
    "                )\n",
    "            plt.legend()"
   ]
  },
  {
   "cell_type": "code",
   "execution_count": null,
   "metadata": {},
   "outputs": [
    {
     "data": {
      "text/plain": [
       "Sample(lstSequences=[Sequence(lstRecords=[Record(lstCurves=[Curve(lstValues=[293.0, 303.0, 313.0, 323.0, 333.0, 343.0, 353.0, 363.0, 373.0, 383.0], component='thermocouple', startDate=datetime.datetime(2021, 2, 14, 22, 57, 12), curveType=<CurveType.MEASURED: 0>, duration=0.0, offset=0.0, xValues=[], yValues=[], tValues=[], xLabel='NA', yLabel='NA', tLabel='time', vLabel='temperature', xUnit='', yUnit='', tUnit='s', vUnit='K', detectionWindow='NA', filter='NA', _meta=XLum_Meta(comment='NA', state=<State.UNKNOWN: -1>, parentID='NA')), Curve(lstValues=[100.0, 210.0, 320.0, 450.0, 560.0, 700.0, 800.0, 900.0, 850.0, 650.0], component='PMT', startDate=datetime.datetime(2021, 2, 14, 22, 57, 12), curveType=<CurveType.MEASURED: 0>, duration=0.0, offset=0.0, xValues=[], yValues=[], tValues=[], xLabel='NA', yLabel='NA', tLabel='time', vLabel='luminescence', xUnit='', yUnit='', tUnit='s', vUnit='cts', detectionWindow='375', filter='Hoya U340; Delta BP 365/50EX', _meta=XLum_Meta(comment='NA', state=<State.UNKNOWN: -1>, parentID='NA'))], recordType=<RecordType.TL: 100>, sequenceStepNumber=1, sampleCondition=<SampleCondition.NA: -2>, _meta=XLum_Meta(comment='NA', state=<State.UNKNOWN: -1>, parentID='NA')), Record(lstCurves=[Curve(lstValues=[0.9, 0.82, 0.74, 0.67, 0.61, 0.55, 0.5, 0.45, 0.41, 0.37], component='PMT', startDate=datetime.datetime(2021, 2, 14, 22, 57), curveType=<CurveType.MEASURED: 0>, duration=0.0, offset=0.0, xValues=[], yValues=[], tValues=[], xLabel='NA', yLabel='NA', tLabel='time', vLabel='luminescence', xUnit='', yUnit='', tUnit='s', vUnit='cts', detectionWindow='375', filter='Hoya U340; Delta BP 365/50EX', _meta=XLum_Meta(comment='NA', state=<State.UNKNOWN: -1>, parentID='NA'))], recordType=<RecordType.GSL: 510>, sequenceStepNumber=2, sampleCondition=<SampleCondition.NA: -2>, _meta=XLum_Meta(comment='standard green OSL step', state=<State.NA: -2>, parentID='standard green OSL step'))], fileName='Testsequence.seq', software='DeviceEditor 2.0', readerName='NA', readerSN='NA', readerFW='NA', _meta=XLum_Meta(comment='NA', state=<State.UNKNOWN: -1>, parentID='NA'))], name='LUM-21321', mineral='quartz', latitude=52.4091392, longitude=-4.0702446, altitude=50.0, doi='valid DOI', _meta=XLum_Meta(comment='NA', state=<State.UNKNOWN: -1>, parentID='NA'))"
      ]
     },
     "execution_count": 74,
     "metadata": {},
     "output_type": "execute_result"
    }
   ],
   "source": [
    "obj.lstSamples[0]"
   ]
  },
  {
   "cell_type": "code",
   "execution_count": null,
   "metadata": {},
   "outputs": [
    {
     "ename": "NameError",
     "evalue": "name 'df_curve' is not defined",
     "output_type": "error",
     "traceback": [
      "\u001b[1;31m---------------------------------------------------------------------------\u001b[0m",
      "\u001b[1;31mNameError\u001b[0m                                 Traceback (most recent call last)",
      "\u001b[1;32mc:\\Users\\Steve\\Documents\\Git-Repos\\xlum-python\\notebooks\\example.ipynb Cell 16'\u001b[0m in \u001b[0;36m<cell line: 1>\u001b[1;34m()\u001b[0m\n\u001b[1;32m----> <a href='vscode-notebook-cell:/c%3A/Users/Steve/Documents/Git-Repos/xlum-python/notebooks/example.ipynb#ch0000015?line=0'>1</a>\u001b[0m pd\u001b[39m.\u001b[39mDataFrame\u001b[39m.\u001b[39mplot(df_curve, x\u001b[39m=\u001b[39m\u001b[39m\"\u001b[39m\u001b[39mcurve\u001b[39m\u001b[39m\"\u001b[39m)\n",
      "\u001b[1;31mNameError\u001b[0m: name 'df_curve' is not defined"
     ]
    }
   ],
   "source": [
    "pd.DataFrame.plot(df_curve, x=\"curve\")"
   ]
  },
  {
   "cell_type": "code",
   "execution_count": null,
   "metadata": {},
   "outputs": [],
   "source": [
    "\"plot\" in dir(df_curve)"
   ]
  },
  {
   "cell_type": "code",
   "execution_count": null,
   "metadata": {},
   "outputs": [],
   "source": [
    "df_curve.plot()"
   ]
  },
  {
   "cell_type": "code",
   "execution_count": null,
   "metadata": {},
   "outputs": [],
   "source": []
  }
 ],
 "metadata": {
  "interpreter": {
   "hash": "12b7edbcaddfb559812d71538bae8f8926e811690d79d4c0f126aa3bfe5a9439"
  },
  "kernelspec": {
   "display_name": "Python 3.10.4 (conda)",
   "language": "python",
   "name": "python3"
  },
  "language_info": {
   "codemirror_mode": {
    "name": "ipython",
    "version": 3
   },
   "file_extension": ".py",
   "mimetype": "text/x-python",
   "name": "python",
   "nbconvert_exporter": "python",
   "pygments_lexer": "ipython3",
   "version": "3.10.4"
  },
  "orig_nbformat": 4
 },
 "nbformat": 4,
 "nbformat_minor": 2
}
